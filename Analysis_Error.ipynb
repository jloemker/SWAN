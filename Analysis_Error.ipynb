{
 "cells": [
  {
   "cell_type": "code",
   "execution_count": 1,
   "id": "excess-disposition",
   "metadata": {},
   "outputs": [
    {
     "name": "stdout",
     "output_type": "stream",
     "text": [
      "Welcome to JupyROOT 6.24/00\n"
     ]
    }
   ],
   "source": [
    "import uproot\n",
    "import pandas as pd\n",
    "import mplhep as hep\n",
    "import numpy as np\n",
    "import awkward\n",
    "import ROOT\n",
    "import scipy.stats as stats #this one used to do fits\n",
    "import matplotlib.pyplot as plt\n",
    "import awkward as ak\n",
    "import MyHelpers as mh\n",
    "import StatisticTools as st\n",
    "from tqdm import tqdm #this is a fancy feature to make a progress bar as the loop proceed\n",
    "\n",
    "\n",
    "#to make the plots in CMS style execute this line\n",
    "plt.style.use([hep.style.ROOT, hep.style.firamath])\n",
    "plt.style.use(hep.style.CMS)"
   ]
  },
  {
   "cell_type": "code",
   "execution_count": 2,
   "id": "indie-coverage",
   "metadata": {},
   "outputs": [],
   "source": [
    "#Getting files\n",
    "#Execute this line if running on SWAN, otherwise update the path to the data files:\n",
    "PATH='/eos/cms/store/user/jjhollar/CERNSummerStudentProject2021/'\n",
    "#PATH='data'\n",
    "filename=PATH+'/gammagammaMuMu_FPMC_pT25_14TeV_PU200_NTUPLE_jobs123merge_version4.root'\n",
    "#load the file content\n",
    "tree = uproot.open(filename+\":myana/mytree\")\n",
    "#tree.show()\n",
    "\n",
    "filename=PATH+'DYMuMu_PU200_NTUPLE_1_version3.root'\n",
    "bg_tree = uproot.open(filename+\":myana/mytree\")"
   ]
  },
  {
   "cell_type": "code",
   "execution_count": 3,
   "id": "rising-wheat",
   "metadata": {},
   "outputs": [],
   "source": [
    "#Create signal tree\n",
    "event_info = tree.arrays(['genvtx_t0']) \n",
    "muons = tree.arrays(['pfcand_pt','pfcand_eta','pfcand_phi','pfcand_mass','pfcand_t','pfcand_vz'],'abs(pfcand_pid)==13') \n",
    "protons = tree.arrays(['genproton_xi','genproton_pz','genproton_vz','genproton_ispu'], '(genproton_ispu == 0) & (abs(genproton_pz)<6999) & (abs(genproton_pz)>0)')  \n",
    "vertices = tree.arrays(['vtx4D_t','vtx4D_z','vtx4D_pt2']) \n",
    "#(abs(genproton_xi)> 0.0032) & \n",
    "#Create background tree\n",
    "#Compressing the muon data\n",
    "bg_muons =[]\n",
    "for batch, report in bg_tree.iterate(['pfcand_pt','pfcand_eta','pfcand_phi','pfcand_mass','pfcand_t','pfcand_vz','pfcand_pid'], step_size=1000, report=True):\n",
    "    #print(report)\n",
    "    bg_muons.append(batch[(abs(batch.pfcand_pid)==13) & (batch.pfcand_pt>25)] )\n",
    "bg_muons=ak.concatenate(bg_muons)\n",
    "\n",
    "bg_protons = bg_tree.arrays(['genproton_xi','genproton_pz','genproton_vz','genproton_ispu'],'(abs(genproton_pz)<6999) & (abs(genproton_pz)>0)')\n",
    "bg_event_info = bg_tree.arrays(['genvtx_t0']) \n",
    "bg_vertices = bg_tree.arrays(['vtx4D_t','vtx4D_z','vtx4D_pt2'])"
   ]
  },
  {
   "cell_type": "code",
   "execution_count": null,
   "id": "palestinian-arkansas",
   "metadata": {
    "scrolled": true
   },
   "outputs": [
    {
     "name": "stderr",
     "output_type": "stream",
     "text": [
      "100%|██████████| 600/600 [00:02<00:00, 215.84it/s]\n",
      "100%|██████████| 15296/15296 [00:55<00:00, 274.52it/s]\n",
      "100%|██████████| 600/600 [00:02<00:00, 294.74it/s]\n",
      "100%|██████████| 15296/15296 [00:53<00:00, 287.35it/s]\n",
      "100%|██████████| 600/600 [00:02<00:00, 268.66it/s]\n",
      "100%|██████████| 15296/15296 [00:53<00:00, 285.31it/s]\n",
      "100%|██████████| 600/600 [00:02<00:00, 268.80it/s]\n",
      "100%|██████████| 15296/15296 [00:52<00:00, 291.88it/s]\n",
      "100%|██████████| 600/600 [00:02<00:00, 251.47it/s]\n",
      "100%|██████████| 15296/15296 [00:53<00:00, 285.38it/s]\n",
      "100%|██████████| 600/600 [00:02<00:00, 287.25it/s]\n",
      "100%|██████████| 15296/15296 [00:53<00:00, 288.19it/s]\n",
      "100%|██████████| 600/600 [00:02<00:00, 299.16it/s]\n",
      "100%|██████████| 15296/15296 [00:51<00:00, 295.68it/s]\n",
      "100%|██████████| 600/600 [00:02<00:00, 288.78it/s]\n",
      "100%|██████████| 15296/15296 [00:52<00:00, 292.08it/s]\n",
      "100%|██████████| 600/600 [00:02<00:00, 267.95it/s]\n",
      "100%|██████████| 15296/15296 [00:52<00:00, 291.82it/s]\n",
      "100%|██████████| 600/600 [00:02<00:00, 298.86it/s]\n",
      "100%|██████████| 15296/15296 [00:53<00:00, 288.13it/s]\n",
      " 10%|█         | 63/600 [00:00<00:01, 312.50it/s]"
     ]
    },
    {
     "name": "stdout",
     "output_type": "stream",
     "text": [
      "signal rates for 10 full selections at resolution 50: [0.43518519 0.5        0.55140187 0.49541284 0.50458716 0.50458716\n",
      " 0.44444444 0.50925926 0.52727273 0.49074074]\n",
      "background rates for 10 full selections at resolution 50: [0.00042337 0.         0.00063506 0.         0.00063506 0.00084674\n",
      " 0.00042337 0.00063506 0.00021169 0.00042337]\n",
      "significance: 1.0371862725968277\n",
      "std: 0.02294578251827725\n"
     ]
    },
    {
     "name": "stderr",
     "output_type": "stream",
     "text": [
      "100%|██████████| 600/600 [00:02<00:00, 299.14it/s]\n",
      "100%|██████████| 15296/15296 [00:51<00:00, 294.93it/s]\n",
      "100%|██████████| 600/600 [00:02<00:00, 299.34it/s]\n",
      "100%|██████████| 15296/15296 [00:54<00:00, 280.40it/s]\n",
      "100%|██████████| 600/600 [00:02<00:00, 267.97it/s]\n",
      "100%|██████████| 15296/15296 [00:51<00:00, 294.29it/s]\n",
      "100%|██████████| 600/600 [00:02<00:00, 282.64it/s]\n",
      "100%|██████████| 15296/15296 [00:56<00:00, 272.17it/s]\n",
      "100%|██████████| 600/600 [00:02<00:00, 299.67it/s]\n",
      "100%|██████████| 15296/15296 [00:52<00:00, 289.43it/s]\n",
      "100%|██████████| 600/600 [00:02<00:00, 269.09it/s]\n",
      "100%|██████████| 15296/15296 [00:52<00:00, 290.22it/s]\n",
      "100%|██████████| 600/600 [00:02<00:00, 298.71it/s]\n",
      "100%|██████████| 15296/15296 [00:51<00:00, 296.14it/s]\n",
      "100%|██████████| 600/600 [00:02<00:00, 296.34it/s]\n",
      " 73%|███████▎  | 11125/15296 [00:35<00:13, 310.73it/s]"
     ]
    }
   ],
   "source": [
    "sig_rate_20 = []\n",
    "bg_rate_20 = []\n",
    "sig_20 = []\n",
    "\n",
    "sig_rate_50 = []\n",
    "bg_rate_50 = []\n",
    "sig_50 = []\n",
    "\n",
    "\n",
    "for trail in range(0,10):\n",
    "    res = 50\n",
    "    sig, bg = st.create_frame(muons,protons,vertices, event_info, bg_muons,bg_protons, bg_vertices, bg_event_info)\n",
    "    sigma_m = st.fit_mass(sig)\n",
    "    sigma_y = st.fit_y(sig)\n",
    "    sigma_vz = st.fit_vz(sig,res)\n",
    "    sigma_t = st.fit_t(sig,res)\n",
    "    number_acc_sig, number_full_sig = st.full_selection(sig,res, sigma_m, sigma_y,sigma_vz,sigma_t)\n",
    "    number_acc_bg, number_full_bg = st.full_selection(bg,res, sigma_m, sigma_y,sigma_vz,sigma_t)\n",
    "    sig_rate_50 = np.append(sig_rate_50, number_acc_sig/number_full_sig)\n",
    "    bg_rate_50 = np.append(bg_rate_50, number_acc_bg/number_full_bg)\n",
    "    sig_50 = np.append(sig_50,(number_acc_sig+number_acc_bg)/number_acc_sig)\n",
    "print(\"signal rates for 10 full selections at resolution 50:\",sig_rate_50)\n",
    "print(\"background rates for 10 full selections at resolution 50:\",bg_rate_50)\n",
    "(mu, sigma) = stats.norm.fit(sig_50)\n",
    "print(\"significance:\",mu)\n",
    "print(\"std:\",sigma)\n",
    "\n",
    "\n",
    "for trail in range(0,10):\n",
    "    res = 20\n",
    "    sig, bg = st.create_frame(muons,protons,vertices, event_info, bg_muons,bg_protons, bg_vertices, bg_event_info)\n",
    "    sigma_m = st.fit_mass(sig)\n",
    "    sigma_y = st.fit_y(sig)\n",
    "    sigma_vz = st.fit_vz(sig,res)\n",
    "    sigma_t = st.fit_t(sig,res)\n",
    "    number_acc_sig, number_full_sig = st.full_selection(sig,res, sigma_m, sigma_y,sigma_vz,sigma_t)\n",
    "    number_acc_bg, number_full_bg = st.full_selection(bg,res, sigma_m, sigma_y,sigma_vz,sigma_t)\n",
    "    sig_rate_20 = np.append(sig_rate_20, number_acc_sig/number_full_sig)\n",
    "    bg_rate_20 = np.append(bg_rate_20, number_acc_bg/number_full_bg)    \n",
    "    sig_20 = np.append(sig_20,(number_acc_sig+number_acc_bg)/number_acc_sig)\n",
    "print(\"signal rates for 10 full selections at resolution 20:\",sig_rate_20)\n",
    "print(\"background rates for 10 full selections at resolution 20:\",bg_rate_20)\n",
    "(mu, sigma) = stats.norm.fit(sig_20)\n",
    "print(\"significance:\",mu)\n",
    "print(\"std:\", sigma)\n"
   ]
  },
  {
   "cell_type": "code",
   "execution_count": null,
   "id": "protecting-longitude",
   "metadata": {},
   "outputs": [],
   "source": [
    "(mu, sigma) = stats.norm.fit(sig_20)\n",
    "print(\"significance for 20ps:\")\n",
    "print(mu)\n",
    "print(\"std:\", sigma)\n",
    "\n",
    "(mu, sigma) = stats.norm.fit(sig_50)\n",
    "print(\"significance for 50ps:\")\n",
    "print(mu)\n",
    "print(\"std:\", sigma)\n"
   ]
  },
  {
   "cell_type": "code",
   "execution_count": null,
   "id": "moral-boulder",
   "metadata": {},
   "outputs": [],
   "source": []
  }
 ],
 "metadata": {
  "kernelspec": {
   "display_name": "Python 3",
   "language": "python",
   "name": "python3"
  },
  "language_info": {
   "codemirror_mode": {
    "name": "ipython",
    "version": 3
   },
   "file_extension": ".py",
   "mimetype": "text/x-python",
   "name": "python",
   "nbconvert_exporter": "python",
   "pygments_lexer": "ipython3",
   "version": "3.8.6"
  }
 },
 "nbformat": 4,
 "nbformat_minor": 5
}
