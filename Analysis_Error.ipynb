{
 "cells": [
  {
   "cell_type": "code",
   "execution_count": 3,
   "id": "cardiovascular-shirt",
   "metadata": {},
   "outputs": [],
   "source": [
    "import uproot\n",
    "import pandas as pd\n",
    "import mplhep as hep\n",
    "import numpy as np\n",
    "import awkward\n",
    "import ROOT\n",
    "import scipy.stats as stats #this one used to do fits\n",
    "import matplotlib.pyplot as plt\n",
    "import awkward as ak\n",
    "import MyHelpers as mh\n",
    "import StatisticTools as st\n",
    "from tqdm import tqdm #this is a fancy feature to make a progress bar as the loop proceed\n",
    "\n",
    "\n",
    "#to make the plots in CMS style execute this line\n",
    "plt.style.use([hep.style.ROOT, hep.style.firamath])\n",
    "plt.style.use(hep.style.CMS)"
   ]
  },
  {
   "cell_type": "code",
   "execution_count": 4,
   "id": "completed-release",
   "metadata": {},
   "outputs": [],
   "source": [
    "#Getting files\n",
    "#Execute this line if running on SWAN, otherwise update the path to the data files:\n",
    "PATH='/eos/cms/store/user/jjhollar/CERNSummerStudentProject2021/'\n",
    "#PATH='data'\n",
    "filename=PATH+'/gammagammaMuMu_FPMC_pT25_14TeV_PU200_NTUPLE_jobs123merge_version4.root'\n",
    "#load the file content\n",
    "tree = uproot.open(filename+\":myana/mytree\")\n",
    "#tree.show()\n",
    "\n",
    "filename=PATH+'DYMuMu_PU200_NTUPLE_1_version3.root'\n",
    "bg_tree = uproot.open(filename+\":myana/mytree\")"
   ]
  },
  {
   "cell_type": "code",
   "execution_count": 5,
   "id": "endless-extent",
   "metadata": {},
   "outputs": [],
   "source": [
    "#Create signal tree\n",
    "event_info = tree.arrays(['genvtx_t0']) \n",
    "muons = tree.arrays(['pfcand_pt','pfcand_eta','pfcand_phi','pfcand_mass','pfcand_t','pfcand_vz'],'abs(pfcand_pid)==13') \n",
    "protons = tree.arrays(['genproton_xi','genproton_pz','genproton_vz','genproton_ispu'], '(genproton_ispu == 0) & (abs(genproton_pz)<6999) & (abs(genproton_pz)>0)')  \n",
    "vertices = tree.arrays(['vtx4D_t','vtx4D_z','vtx4D_pt2']) \n",
    "\n",
    "#Create background tree\n",
    "#Compressing the muon data\n",
    "bg_muons =[]\n",
    "for batch, report in bg_tree.iterate(['pfcand_pt','pfcand_eta','pfcand_phi','pfcand_mass','pfcand_t','pfcand_vz','pfcand_pid'], step_size=1000, report=True):\n",
    "    #print(report)\n",
    "    bg_muons.append(batch[(abs(batch.pfcand_pid)==13) & (batch.pfcand_pt>25)] )\n",
    "bg_muons=ak.concatenate(bg_muons)\n",
    "\n",
    "bg_protons = bg_tree.arrays(['genproton_xi','genproton_pz','genproton_vz','genproton_ispu'],'(abs(genproton_pz)<6999) & (abs(genproton_pz)>0)')\n",
    "bg_event_info = bg_tree.arrays(['genvtx_t0']) \n",
    "bg_vertices = bg_tree.arrays(['vtx4D_t','vtx4D_z','vtx4D_pt2'])"
   ]
  },
  {
   "cell_type": "code",
   "execution_count": 24,
   "id": "oriental-copyright",
   "metadata": {
    "scrolled": true
   },
   "outputs": [
    {
     "name": "stderr",
     "output_type": "stream",
     "text": [
      "100%|██████████| 600/600 [00:02<00:00, 285.05it/s]\n",
      "100%|██████████| 15296/15296 [00:53<00:00, 286.15it/s]\n",
      "100%|██████████| 600/600 [00:01<00:00, 308.18it/s]\n",
      "100%|██████████| 15296/15296 [00:55<00:00, 277.43it/s]\n",
      "100%|██████████| 600/600 [00:02<00:00, 271.48it/s]\n",
      "100%|██████████| 15296/15296 [01:00<00:00, 253.41it/s]\n",
      "100%|██████████| 600/600 [00:02<00:00, 289.08it/s]\n",
      "100%|██████████| 15296/15296 [00:55<00:00, 276.75it/s]\n",
      "100%|██████████| 600/600 [00:01<00:00, 302.08it/s]\n",
      "100%|██████████| 15296/15296 [00:56<00:00, 271.32it/s]\n",
      "100%|██████████| 600/600 [00:02<00:00, 261.18it/s]\n",
      "100%|██████████| 15296/15296 [00:53<00:00, 288.40it/s]\n",
      "100%|██████████| 600/600 [00:01<00:00, 309.90it/s]\n",
      "100%|██████████| 15296/15296 [00:52<00:00, 289.01it/s]\n",
      "100%|██████████| 600/600 [00:02<00:00, 264.29it/s]\n",
      "100%|██████████| 15296/15296 [00:50<00:00, 302.99it/s]\n",
      "100%|██████████| 600/600 [00:01<00:00, 309.77it/s]\n",
      "100%|██████████| 15296/15296 [00:52<00:00, 293.26it/s]\n",
      "100%|██████████| 600/600 [00:01<00:00, 307.83it/s]\n",
      "100%|██████████| 15296/15296 [00:52<00:00, 289.43it/s]\n",
      "  4%|▎         | 22/600 [00:00<00:02, 207.73it/s]"
     ]
    },
    {
     "name": "stdout",
     "output_type": "stream",
     "text": [
      "signal rates for 10 full selections at resolution 50: [0.4952381  0.46363636 0.50925926 0.50943396 0.53271028 0.51851852\n",
      " 0.49541284 0.47222222 0.53271028 0.43119266]\n",
      "background rates for 10 full selections at resolution 50: [0.00042337 0.00063506 0.00127011 0.00042337 0.00042337 0.00127011\n",
      " 0.00084674 0.00042337 0.00021169 0.00127011]\n",
      "significance: 1.0644136784908143\n",
      "std: 0.03614025275482864\n"
     ]
    },
    {
     "name": "stderr",
     "output_type": "stream",
     "text": [
      "100%|██████████| 600/600 [00:02<00:00, 258.68it/s]\n",
      "100%|██████████| 15296/15296 [00:52<00:00, 291.71it/s]\n",
      "100%|██████████| 600/600 [00:02<00:00, 280.18it/s]\n",
      "100%|██████████| 15296/15296 [00:51<00:00, 297.96it/s]\n",
      "100%|██████████| 600/600 [00:02<00:00, 292.34it/s]\n",
      "100%|██████████| 15296/15296 [00:51<00:00, 296.80it/s]\n",
      "100%|██████████| 600/600 [00:02<00:00, 270.97it/s]\n",
      "100%|██████████| 15296/15296 [00:52<00:00, 292.10it/s]\n",
      "100%|██████████| 600/600 [00:02<00:00, 277.12it/s]\n",
      "100%|██████████| 15296/15296 [00:50<00:00, 300.01it/s]\n",
      "100%|██████████| 600/600 [00:01<00:00, 306.93it/s]\n",
      "100%|██████████| 15296/15296 [00:52<00:00, 293.61it/s]\n",
      "100%|██████████| 600/600 [00:01<00:00, 310.55it/s]\n",
      "100%|██████████| 15296/15296 [00:52<00:00, 292.40it/s]\n",
      "100%|██████████| 600/600 [00:02<00:00, 290.96it/s]\n",
      "100%|██████████| 15296/15296 [00:53<00:00, 286.88it/s]\n",
      "100%|██████████| 600/600 [00:01<00:00, 304.49it/s]\n",
      "100%|██████████| 15296/15296 [00:54<00:00, 282.95it/s]\n",
      "100%|██████████| 600/600 [00:02<00:00, 276.31it/s]\n",
      "100%|██████████| 15296/15296 [00:53<00:00, 285.64it/s]\n"
     ]
    },
    {
     "name": "stdout",
     "output_type": "stream",
     "text": [
      "signal rates for 10 full selections at resolution 20: [0.56481481 0.53636364 0.45794393 0.46363636 0.56880734 0.58715596\n",
      " 0.55045872 0.49074074 0.49541284 0.48148148]\n",
      "background rates for 10 full selections at resolution 20: [0.00021169 0.00021169 0.00021169 0.00042337 0.         0.00042337\n",
      " 0.00021169 0.         0.00021169 0.        ]\n",
      "significance: 1.0159401629890326\n",
      "std: 0.012517067370235165\n"
     ]
    }
   ],
   "source": [
    "s_t = []\n",
    "s_vz = []\n",
    "s_y = []\n",
    "s_m = []\n",
    "\n",
    "b_t = []\n",
    "b_vz = []\n",
    "b_y = []\n",
    "b_m = []\n",
    "\n",
    "\n",
    "\n",
    "sig_rate_20 = []\n",
    "bg_rate_20 = []\n",
    "sig_20 = []\n",
    "\n",
    "sig_rate_50 = []\n",
    "bg_rate_50 = []\n",
    "sig_50 = []\n",
    "\n",
    "\n",
    "for trail in range(0,10):\n",
    "    res = 50\n",
    "    sig, bg = st.create_frame(muons,protons,vertices, event_info, bg_muons,bg_protons, bg_vertices, bg_event_info)\n",
    "    sigma_m = st.fit_mass(sig)\n",
    "    sigma_y = st.fit_y(sig)\n",
    "    sigma_vz = st.fit_vz(sig,res)\n",
    "    sigma_t = st.fit_t(sig,res)\n",
    "    number_acc_sig, number_full_sig, s_t, s_vz, s_y, s_m = st.full_selection(sig,res, sigma_m, sigma_y,sigma_vz,sigma_t)\n",
    "    number_acc_bg, number_full_bg, b_t, b_vz, b_y, b_m = st.full_selection(bg,res, sigma_m, sigma_y,sigma_vz,sigma_t)\n",
    "    sig_rate_50 = np.append(sig_rate_50, number_acc_sig/number_full_sig)\n",
    "    bg_rate_50 = np.append(bg_rate_50, number_acc_bg/number_full_bg)\n",
    "    sig_50 = np.append(sig_50,(number_acc_sig+number_acc_bg)/number_acc_sig)\n",
    "print(\"signal rates for 10 full selections at resolution 50:\",sig_rate_50)\n",
    "print(\"background rates for 10 full selections at resolution 50:\",bg_rate_50)\n",
    "(mu, sigma) = stats.norm.fit(sig_50)\n",
    "print(\"significance:\",mu)\n",
    "print(\"std:\",sigma)\n",
    "\n",
    "\n",
    "for trail in range(0,10):\n",
    "    res = 20\n",
    "    sig, bg = st.create_frame(muons,protons,vertices, event_info, bg_muons,bg_protons, bg_vertices, bg_event_info)\n",
    "    sigma_m = st.fit_mass(sig)\n",
    "    sigma_y = st.fit_y(sig)\n",
    "    sigma_vz = st.fit_vz(sig,res)\n",
    "    sigma_t = st.fit_t(sig,res)\n",
    "    number_acc_sig, number_full_sig, s_t, s_vz, s_y, s_m = st.full_selection(sig,res, sigma_m, sigma_y,sigma_vz,sigma_t)\n",
    "    number_acc_bg, number_full_bg, b_t, b_vz, b_y, b_m = st.full_selection(bg,res, sigma_m, sigma_y,sigma_vz,sigma_t)\n",
    "    sig_rate_20 = np.append(sig_rate_20, number_acc_sig/number_full_sig)\n",
    "    bg_rate_20 = np.append(bg_rate_20, number_acc_bg/number_full_bg)    \n",
    "    sig_20 = np.append(sig_20,(number_acc_sig+number_acc_bg)/number_acc_sig)\n",
    "print(\"signal rates for 10 full selections at resolution 20:\",sig_rate_20)\n",
    "print(\"background rates for 10 full selections at resolution 20:\",bg_rate_20)\n",
    "(mu, sigma) = stats.norm.fit(sig_20)\n",
    "print(\"significance:\",mu)\n",
    "print(\"std:\", sigma)\n"
   ]
  },
  {
   "cell_type": "code",
   "execution_count": 25,
   "id": "printable-tsunami",
   "metadata": {},
   "outputs": [
    {
     "name": "stdout",
     "output_type": "stream",
     "text": [
      "significance for 20ps:\n",
      "1.0159401629890326\n",
      "std: 0.012517067370235165\n",
      "significance for 50ps:\n",
      "1.0644136784908143\n",
      "std: 0.03614025275482864\n"
     ]
    }
   ],
   "source": [
    "(mu, sigma) = stats.norm.fit(sig_20)\n",
    "print(\"significance for 20ps:\")\n",
    "print(mu)\n",
    "print(\"std:\", sigma)\n",
    "\n",
    "(mu, sigma) = stats.norm.fit(sig_50)\n",
    "print(\"significance for 50ps:\")\n",
    "print(mu)\n",
    "print(\"std:\", sigma)\n"
   ]
  },
  {
   "cell_type": "code",
   "execution_count": null,
   "id": "possible-situation",
   "metadata": {},
   "outputs": [],
   "source": [
    "#trying to make it shorter...\n",
    "for k in [s, b]:\n",
    "    k+_t = []\n",
    "    k+_vz = []\n",
    "    k+_y = []\n",
    "    k+_m = []\n",
    "for s in ['sig', 'bg']:\n",
    "    for r in ['20', '50']:\n",
    "        s+'_rate_'+r = []\n",
    "        'sig_'+r = []\n",
    "\n",
    "\n",
    "for res in [20,50]:\n",
    "    for trail in range(0,10):    \n",
    "        sig, bg = st.create_frame(muons,protons,vertices, event_info, bg_muons,bg_protons, bg_vertices, bg_event_info)\n",
    "        sigma_m = st.fit_mass(sig)\n",
    "        sigma_y = st.fit_y(sig)\n",
    "        sigma_vz = st.fit_vz(sig,res)\n",
    "        sigma_t = st.fit_t(sig,res)\n",
    "        number_acc_sig, number_full_sig, s_t, s_vz, s_y, s_m = st.full_selection(sig,res, sigma_m, sigma_y,sigma_vz,sigma_t)\n",
    "        number_acc_bg, number_full_bg, b_t, b_vz, b_y, b_m = st.full_selection(bg,res, sigma_m, sigma_y,sigma_vz,sigma_t)\n",
    "        sig_rate_+str(res) = np.append(sig_rate_+str(res), number_acc_sig/number_full_sig)\n",
    "        bg_rate_+str(res) = np.append(bg_rate_+str(res), number_acc_bg/number_full_bg)\n",
    "        sig_+str(res) = np.append(sig_+str(res),(number_acc_sig+number_acc_bg)/number_acc_sig)\n",
    "    print(\"signal rates for 10 full selections at resolution\"+str(res)+\": \",sig_rate_+str(res))\n",
    "    print(\"background rates for 10 full selections at resolution\"+str(res)+\": \",bg_rate_+str(res))\n",
    "    (mu, sigma) = stats.norm.fit(sig_+str(res))\n",
    "    print(\"significance:\",mu)\n",
    "    print(\"std:\",sigma)"
   ]
  }
 ],
 "metadata": {
  "kernelspec": {
   "display_name": "Python 3",
   "language": "python",
   "name": "python3"
  },
  "language_info": {
   "codemirror_mode": {
    "name": "ipython",
    "version": 3
   },
   "file_extension": ".py",
   "mimetype": "text/x-python",
   "name": "python",
   "nbconvert_exporter": "python",
   "pygments_lexer": "ipython3",
   "version": "3.8.6"
  }
 },
 "nbformat": 4,
 "nbformat_minor": 5
}
