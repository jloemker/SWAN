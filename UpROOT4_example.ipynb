{
 "cells": [
  {
   "cell_type": "markdown",
   "metadata": {},
   "source": [
    "# Getting started with *uproot4*\n",
    "\n",
    "In this notebook, we will see how ROOT files can be viewed using [uproot4](https://github.com/scikit-hep/uproot4) python package. \n",
    "\n",
    "More help on how to use the package can be found in https://uproot.readthedocs.io/en/latest/index.html. Here we will give a few simple examples that will be used during the project.\n",
    "\n",
    "If needed, install the package using:\n",
    "```\n",
    "!python -m pip install uproot4\n",
    "```\n"
   ]
  },
  {
   "cell_type": "code",
   "execution_count": null,
   "metadata": {},
   "outputs": [],
   "source": [
    "#import uproot\n",
    "import uproot4"
   ]
  },
  {
   "cell_type": "markdown",
   "metadata": {},
   "source": [
    "Explore the content of the file:"
   ]
  },
  {
   "cell_type": "code",
   "execution_count": null,
   "metadata": {},
   "outputs": [],
   "source": [
    "# relace next line with the path to your file\n",
    "path='data'\n",
    "#path='/eos/cms/store/user/jjhollar/CERNSummerStudentProject2021/'\n",
    "filename=path+'/gammagammaMuMu_FPMC_pT25_PU140_NTUPLE_1_version2.root'"
   ]
  },
  {
   "cell_type": "code",
   "execution_count": null,
   "metadata": {},
   "outputs": [],
   "source": [
    "#open the file, using uproot\n",
    "root_=uproot4.open( filename )"
   ]
  },
  {
   "cell_type": "markdown",
   "metadata": {},
   "source": [
    "Now inspect the conten of the file:"
   ]
  },
  {
   "cell_type": "code",
   "execution_count": null,
   "metadata": {},
   "outputs": [],
   "source": [
    "root_.keys()"
   ]
  },
  {
   "cell_type": "markdown",
   "metadata": {},
   "source": [
    "In the selected file, we have directory `myana` and a tree in the directory names `mytree`, let's get the tree and see the branches:"
   ]
  },
  {
   "cell_type": "code",
   "execution_count": null,
   "metadata": {},
   "outputs": [],
   "source": [
    "tree_ = root_[\"myana/mytree\"]"
   ]
  },
  {
   "cell_type": "code",
   "execution_count": null,
   "metadata": {
    "scrolled": true
   },
   "outputs": [],
   "source": [
    "tree_.show()"
   ]
  },
  {
   "cell_type": "markdown",
   "metadata": {},
   "source": [
    "A shorter option to read a tree from a file is:\n",
    "```\n",
    "tree_ = uproot4.open(filename+\":myana/mytree\")\n",
    "```\n",
    "\n",
    "To see the content of a single variable (we will see the number of verteces in each event):"
   ]
  },
  {
   "cell_type": "code",
   "execution_count": null,
   "metadata": {},
   "outputs": [],
   "source": [
    "vtx_size = tree_['vtx_size'].array()\n",
    "print(vtx_size)"
   ]
  },
  {
   "cell_type": "markdown",
   "metadata": {},
   "source": [
    "## Convert ROOT to pandas dataframe\n",
    "\n",
    "export the ROOT file content into pandas dataframe:\n",
    "\n",
    "The tricky part is that in ROOT files we usually store vectors, and the conversion to dataframes is not always trivial. The simplest way is to store different types of vectors in different dataframes:"
   ]
  },
  {
   "cell_type": "code",
   "execution_count": null,
   "metadata": {},
   "outputs": [],
   "source": [
    "#variables_to_save=[tree_.keys()] # this will not work, due to vectors in the dataset\n",
    "muons_df = tree_.arrays(['muon_size','muon_pt','muon_eta','muon_phi'], library=\"pd\")\n",
    "genproton_df = tree_.arrays(['genproton_size','genproton_xi','genproton_pz','genproton_vz','genproton_ispu'], library=\"pd\")\n",
    "floats_df = tree_.arrays(['genvtx_t0'], library=\"pd\")"
   ]
  },
  {
   "cell_type": "code",
   "execution_count": null,
   "metadata": {
    "scrolled": true
   },
   "outputs": [],
   "source": [
    "muons_df.head()"
   ]
  },
  {
   "cell_type": "code",
   "execution_count": null,
   "metadata": {
    "scrolled": true
   },
   "outputs": [],
   "source": [
    "genproton_df.head()"
   ]
  },
  {
   "cell_type": "code",
   "execution_count": null,
   "metadata": {},
   "outputs": [],
   "source": [
    "floats_df.head()"
   ]
  },
  {
   "cell_type": "markdown",
   "metadata": {},
   "source": [
    "### analyze the tree\n",
    "\n",
    "Now let's do a simple analysis, we will compute invariant of pair of signal protons, and compare it to the invariant mass of two muons with highest $p_T$:\n",
    "\n",
    "Muon kinematics are vectors, and the easy way is to process tree, and create floats for each event and store them in the dataframe."
   ]
  },
  {
   "cell_type": "code",
   "execution_count": null,
   "metadata": {},
   "outputs": [],
   "source": [
    "import pandas as pd\n",
    "import numpy as np"
   ]
  },
  {
   "cell_type": "markdown",
   "metadata": {},
   "source": [
    "create new arrays:"
   ]
  },
  {
   "cell_type": "code",
   "execution_count": null,
   "metadata": {},
   "outputs": [],
   "source": [
    "n_events = len(floats_df)\n",
    "mpp=np.zeros(n_events)\n",
    "mll=np.zeros(n_events)"
   ]
  },
  {
   "cell_type": "markdown",
   "metadata": {},
   "source": [
    "read proton content from the file"
   ]
  },
  {
   "cell_type": "code",
   "execution_count": null,
   "metadata": {},
   "outputs": [],
   "source": [
    "N_protons=tree_['genproton_size'].array()\n",
    "genproton_xi=tree_['genproton_xi'].array()\n",
    "genproton_pz=tree_['genproton_pz'].array()\n",
    "genproton_vz=tree_['genproton_vz'].array()\n",
    "genproton_ispu=tree_['genproton_ispu'].array()"
   ]
  },
  {
   "cell_type": "markdown",
   "metadata": {},
   "source": [
    "compute mass of two signal protons"
   ]
  },
  {
   "cell_type": "code",
   "execution_count": null,
   "metadata": {},
   "outputs": [],
   "source": [
    "for ev, nprotons in enumerate(N_protons):\n",
    "    xi_pos=0; xi_neg=0; n_protons=0\n",
    "    for i in range(nprotons):\n",
    "        if genproton_ispu[ev][i]: continue\n",
    "        n_protons=n_protons+1\n",
    "        if genproton_pz[ev][i] > 0: xi_pos=genproton_xi[ev][i]\n",
    "        else: xi_neg=genproton_xi[ev][i]\n",
    "    if n_protons != 2: \n",
    "        print('Error, find '+str(n_protons)+' signal protons, skip')\n",
    "        mpp[ev]=-1.\n",
    "    mpp[ev]=14000.*np.sqrt(xi_pos*xi_neg)\n"
   ]
  },
  {
   "cell_type": "markdown",
   "metadata": {},
   "source": [
    "read muon content from the file:"
   ]
  },
  {
   "cell_type": "code",
   "execution_count": null,
   "metadata": {},
   "outputs": [],
   "source": [
    "N_muons=tree_['muon_size'].array()\n",
    "mu_pt=tree_['muon_pt'].array()\n",
    "mu_eta=tree_['muon_eta'].array()\n",
    "mu_phi=tree_['muon_phi'].array()"
   ]
  },
  {
   "cell_type": "markdown",
   "metadata": {},
   "source": [
    "compute invariant mass of peir of leptons:"
   ]
  },
  {
   "cell_type": "code",
   "execution_count": null,
   "metadata": {},
   "outputs": [],
   "source": [
    "for ev, nmuons in enumerate(N_muons):\n",
    "    mu1_pt=0; mu1_eta=0; mu1_phi=0\n",
    "    mu2_pt=0; mu2_eta=0; mu2_phi=0\n",
    "    for i in range(nmuons):\n",
    "        if mu_pt[ev][i]>mu1_pt:\n",
    "            mu2_pt=mu1_pt\n",
    "            mu2_eta=mu1_eta\n",
    "            mu2_phi=mu1_phi\n",
    "            \n",
    "            mu1_pt=mu_pt[ev][i]\n",
    "            mu1_eta=mu_eta[ev][i]\n",
    "            mu1_phi=mu_phi[ev][i]\n",
    "        elif mu_pt[ev][i]>mu2_pt:\n",
    "            mu2_pt=mu_pt[ev][i]\n",
    "            mu2_eta=mu_eta[ev][i]\n",
    "            mu2_phi=mu_phi[ev][i]            \n",
    "    \n",
    "    # compute invariant mass of lepton pair\n",
    "    sumE=mu1_pt*np.cosh(mu1_eta)+mu2_pt*np.cosh(mu2_eta)\n",
    "    sumPx=mu1_pt*np.cos(mu1_phi)+mu2_pt*np.cos(mu2_phi)\n",
    "    sumPy=mu1_pt*np.sin(mu1_phi)+mu2_pt*np.sin(mu2_phi)\n",
    "    sumPz=mu1_pt*np.sinh(mu1_eta)+mu2_pt*np.sinh(mu2_eta)\n",
    "    \n",
    "    \n",
    "    mll2 = sumE**2 - sumPx**2 - sumPy**2 - sumPz**2\n",
    "    mll[ev]=np.sqrt(mll2)\n",
    "\n",
    "    "
   ]
  },
  {
   "cell_type": "markdown",
   "metadata": {},
   "source": [
    "To end this exersize, plot the correlation between $m_{ll}$ and $m_{pp}$"
   ]
  },
  {
   "cell_type": "code",
   "execution_count": null,
   "metadata": {},
   "outputs": [],
   "source": [
    "import matplotlib.pyplot as plt\n",
    "import numpy as np\n",
    "\n",
    "# Fixing random state for reproducibility\n",
    "np.random.seed(19680801)\n",
    "\n",
    "plt.scatter(mpp, mll)\n",
    "plt.xlabel(\"mpp\")\n",
    "plt.ylabel(\"mll\")\n",
    "plt.show()"
   ]
  },
  {
   "cell_type": "code",
   "execution_count": null,
   "metadata": {},
   "outputs": [],
   "source": []
  }
 ],
 "metadata": {
  "kernelspec": {
   "display_name": "Python 3",
   "language": "python",
   "name": "python3"
  },
  "language_info": {
   "codemirror_mode": {
    "name": "ipython",
    "version": 3
   },
   "file_extension": ".py",
   "mimetype": "text/x-python",
   "name": "python",
   "nbconvert_exporter": "python",
   "pygments_lexer": "ipython3",
   "version": "3.6.12"
  }
 },
 "nbformat": 4,
 "nbformat_minor": 4
}
