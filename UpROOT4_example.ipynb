{
 "cells": [
  {
   "cell_type": "markdown",
   "metadata": {},
   "source": [
    "# Getting started with *uproot4*\n",
    "\n",
    "In this notebook, we will see how ROOT files can be viewed using [uproot4](https://github.com/scikit-hep/uproot4) python package. \n",
    "\n",
    "More help on how to use the package can be found in https://uproot.readthedocs.io/en/latest/index.html. Here we will give a few simple examples that will be used during the project.\n",
    "\n",
    "If needed, install the package using:\n",
    "```\n",
    "!python -m pip install uproot4\n",
    "```\n"
   ]
  },
  {
   "cell_type": "code",
   "execution_count": 9,
   "metadata": {},
   "outputs": [],
   "source": [
    "#import uproot\n",
    "import uproot"
   ]
  },
  {
   "cell_type": "markdown",
   "metadata": {},
   "source": [
    "Explore the content of the file:"
   ]
  },
  {
   "cell_type": "code",
   "execution_count": 10,
   "metadata": {},
   "outputs": [],
   "source": [
    "# relace next line with the path to your file\n",
    "#path='data'\n",
    "path='/eos/cms/store/user/jjhollar/CERNSummerStudentProject2021/'\n",
    "filename=path+'/gammagammaMuMu_FPMC_pT25_PU140_NTUPLE_1_version2.root'"
   ]
  },
  {
   "cell_type": "code",
   "execution_count": 11,
   "metadata": {},
   "outputs": [],
   "source": [
    "#open the file, using uproot\n",
    "root_=uproot.open( filename )"
   ]
  },
  {
   "cell_type": "markdown",
   "metadata": {},
   "source": [
    "Now inspect the conten of the file:"
   ]
  },
  {
   "cell_type": "code",
   "execution_count": 12,
   "metadata": {},
   "outputs": [
    {
     "data": {
      "text/plain": [
       "['myana;1', 'myana/mytree;1']"
      ]
     },
     "execution_count": 12,
     "metadata": {},
     "output_type": "execute_result"
    }
   ],
   "source": [
    "root_.keys()"
   ]
  },
  {
   "cell_type": "markdown",
   "metadata": {},
   "source": [
    "In the selected file, we have directory `myana` and a tree in the directory names `mytree`, let's get the tree and see the branches:"
   ]
  },
  {
   "cell_type": "code",
   "execution_count": 13,
   "metadata": {},
   "outputs": [],
   "source": [
    "tree_ = root_[\"myana/mytree\"]"
   ]
  },
  {
   "cell_type": "code",
   "execution_count": 14,
   "metadata": {
    "scrolled": true
   },
   "outputs": [
    {
     "name": "stdout",
     "output_type": "stream",
     "text": [
      "name                 | typename                 | interpretation                \n",
      "---------------------+--------------------------+-------------------------------\n",
      "evt_size             | int32_t                  | AsDtype('>i4')\n",
      "vtx_size             | int32_t                  | AsDtype('>i4')\n",
      "vtx_x                | float[]                  | AsJagged(AsDtype('>f4'))\n",
      "vtx_y                | float[]                  | AsJagged(AsDtype('>f4'))\n",
      "vtx_z                | float[]                  | AsJagged(AsDtype('>f4'))\n",
      "vtx_pt2              | float[]                  | AsJagged(AsDtype('>f4'))\n",
      "vtx4D_size           | int32_t                  | AsDtype('>i4')\n",
      "vtx4D_x              | float[]                  | AsJagged(AsDtype('>f4'))\n",
      "vtx4D_y              | float[]                  | AsJagged(AsDtype('>f4'))\n",
      "vtx4D_z              | float[]                  | AsJagged(AsDtype('>f4'))\n",
      "vtx4D_t              | float[]                  | AsJagged(AsDtype('>f4'))\n",
      "vtx4D_terr           | float[]                  | AsJagged(AsDtype('>f4'))\n",
      "vtx4D_pt2            | float[]                  | AsJagged(AsDtype('>f4'))\n",
      "pfcand_size          | int32_t                  | AsDtype('>i4')\n",
      "pfcand_pid           | int32_t[]                | AsJagged(AsDtype('>i4'))\n",
      "pfcand_pt            | float[]                  | AsJagged(AsDtype('>f4'))\n",
      "pfcand_eta           | float[]                  | AsJagged(AsDtype('>f4'))\n",
      "pfcand_phi           | float[]                  | AsJagged(AsDtype('>f4'))\n",
      "pfcand_mass          | float[]                  | AsJagged(AsDtype('>f4'))\n",
      "pfcand_t             | float[]                  | AsJagged(AsDtype('>f4'))\n",
      "pfcand_terr          | float[]                  | AsJagged(AsDtype('>f4'))\n",
      "pfcand_vz            | float[]                  | AsJagged(AsDtype('>f4'))\n",
      "npuVertices          | int32_t                  | AsDtype('>i4')\n",
      "trueInteractions     | float                    | AsDtype('>f4')\n",
      "genpart_size         | int32_t                  | AsDtype('>i4')\n",
      "genpart_pid          | int32_t[]                | AsJagged(AsDtype('>i4'))\n",
      "genpart_status       | int32_t[]                | AsJagged(AsDtype('>i4'))\n",
      "genpart_pt           | float[]                  | AsJagged(AsDtype('>f4'))\n",
      "genpart_eta          | float[]                  | AsJagged(AsDtype('>f4'))\n",
      "genpart_phi          | float[]                  | AsJagged(AsDtype('>f4'))\n",
      "genpart_mass         | float[]                  | AsJagged(AsDtype('>f4'))\n",
      "genpart_m1           | int32_t[]                | AsJagged(AsDtype('>i4'))\n",
      "genpart_m2           | int32_t[]                | AsJagged(AsDtype('>i4'))\n",
      "genpart_d1           | int32_t[]                | AsJagged(AsDtype('>i4'))\n",
      "genpart_d2           | int32_t[]                | AsJagged(AsDtype('>i4'))\n",
      "genjet_size          | int32_t                  | AsDtype('>i4')\n",
      "genjet_pt            | float[]                  | AsJagged(AsDtype('>f4'))\n",
      "genjet_eta           | float[]                  | AsJagged(AsDtype('>f4'))\n",
      "genjet_phi           | float[]                  | AsJagged(AsDtype('>f4'))\n",
      "genjet_mass          | float[]                  | AsJagged(AsDtype('>f4'))\n",
      "genmet_size          | int32_t                  | AsDtype('>i4')\n",
      "genmet_pt            | float[]                  | AsJagged(AsDtype('>f4'))\n",
      "genmet_phi           | float[]                  | AsJagged(AsDtype('>f4'))\n",
      "genproton_size       | int32_t                  | AsDtype('>i4')\n",
      "genproton_xi         | float[]                  | AsJagged(AsDtype('>f4'))\n",
      "genproton_pz         | float[]                  | AsJagged(AsDtype('>f4'))\n",
      "genproton_vz         | float[]                  | AsJagged(AsDtype('>f4'))\n",
      "genproton_ispu       | int32_t[]                | AsJagged(AsDtype('>i4'))\n",
      "genvtx_t0            | float                    | AsDtype('>f4')\n",
      "gamma_size           | int32_t                  | AsDtype('>i4')\n",
      "gamma_pt             | float[]                  | AsJagged(AsDtype('>f4'))\n",
      "gamma_eta            | float[]                  | AsJagged(AsDtype('>f4'))\n",
      "gamma_phi            | float[]                  | AsJagged(AsDtype('>f4'))\n",
      "gamma_mass           | float[]                  | AsJagged(AsDtype('>f4'))\n",
      "gamma_idvar          | float[]                  | AsJagged(AsDtype('>f4'))\n",
      "gamma_reliso         | float[]                  | AsJagged(AsDtype('>f4'))\n",
      "gamma_idpass         | uint32_t[]               | AsJagged(AsDtype('>u4'))\n",
      "gamma_isopass        | uint32_t[]               | AsJagged(AsDtype('>u4'))\n",
      "elec_size            | int32_t                  | AsDtype('>i4')\n",
      "elec_pt              | float[]                  | AsJagged(AsDtype('>f4'))\n",
      "elec_eta             | float[]                  | AsJagged(AsDtype('>f4'))\n",
      "elec_phi             | float[]                  | AsJagged(AsDtype('>f4'))\n",
      "elec_mass            | float[]                  | AsJagged(AsDtype('>f4'))\n",
      "elec_charge          | int32_t[]                | AsJagged(AsDtype('>i4'))\n",
      "elec_idvar           | float[]                  | AsJagged(AsDtype('>f4'))\n",
      "elec_reliso          | float[]                  | AsJagged(AsDtype('>f4'))\n",
      "elec_idpass          | uint32_t[]               | AsJagged(AsDtype('>u4'))\n",
      "elec_isopass         | uint32_t[]               | AsJagged(AsDtype('>u4'))\n",
      "muon_size            | int32_t                  | AsDtype('>i4')\n",
      "muon_pt              | float[]                  | AsJagged(AsDtype('>f4'))\n",
      "muon_eta             | float[]                  | AsJagged(AsDtype('>f4'))\n",
      "muon_phi             | float[]                  | AsJagged(AsDtype('>f4'))\n",
      "muon_mass            | float[]                  | AsJagged(AsDtype('>f4'))\n",
      "muon_charge          | int32_t[]                | AsJagged(AsDtype('>i4'))\n",
      "muon_idvar           | float[]                  | AsJagged(AsDtype('>f4'))\n",
      "muon_reliso          | float[]                  | AsJagged(AsDtype('>f4'))\n",
      "muon_idpass          | uint32_t[]               | AsJagged(AsDtype('>u4'))\n",
      "muon_isopass         | uint32_t[]               | AsJagged(AsDtype('>u4'))\n",
      "tau_size             | int32_t                  | AsDtype('>i4')\n",
      "tau_pt               | float[]                  | AsJagged(AsDtype('>f4'))\n",
      "tau_eta              | float[]                  | AsJagged(AsDtype('>f4'))\n",
      "tau_phi              | float[]                  | AsJagged(AsDtype('>f4'))\n",
      "tau_mass             | float[]                  | AsJagged(AsDtype('>f4'))\n",
      "tau_charge           | int32_t[]                | AsJagged(AsDtype('>i4'))\n",
      "tau_decaymode        | float[]                  | AsJagged(AsDtype('>f4'))\n",
      "tau_chargediso       | float[]                  | AsJagged(AsDtype('>f4'))\n",
      "tau_neutraliso       | float[]                  | AsJagged(AsDtype('>f4'))\n",
      "tau_combinediso      | float[]                  | AsJagged(AsDtype('>f4'))\n",
      "tau_isopass          | uint32_t[]               | AsJagged(AsDtype('>u4'))\n",
      "jetpuppi_size        | int32_t                  | AsDtype('>i4')\n",
      "jetpuppi_pt          | float[]                  | AsJagged(AsDtype('>f4'))\n",
      "jetpuppi_eta         | float[]                  | AsJagged(AsDtype('>f4'))\n",
      "jetpuppi_phi         | float[]                  | AsJagged(AsDtype('>f4'))\n",
      "jetpuppi_mass        | float[]                  | AsJagged(AsDtype('>f4'))\n",
      "jetpuppi_idpass      | uint32_t[]               | AsJagged(AsDtype('>u4'))\n",
      "jetpuppi_DeepJET     | float[]                  | AsJagged(AsDtype('>f4'))\n",
      "jetpuppi_btag        | uint32_t[]               | AsJagged(AsDtype('>u4'))\n",
      "jetchs_size          | int32_t                  | AsDtype('>i4')\n",
      "jetchs_pt            | float[]                  | AsJagged(AsDtype('>f4'))\n",
      "jetchs_eta           | float[]                  | AsJagged(AsDtype('>f4'))\n",
      "jetchs_phi           | float[]                  | AsJagged(AsDtype('>f4'))\n",
      "jetchs_mass          | float[]                  | AsJagged(AsDtype('>f4'))\n",
      "jetchs_idpass        | uint32_t[]               | AsJagged(AsDtype('>u4'))\n",
      "jetchs_DeepJET       | float[]                  | AsJagged(AsDtype('>f4'))\n",
      "jetchs_btag          | uint32_t[]               | AsJagged(AsDtype('>u4'))\n",
      "fatjet_size          | int32_t                  | AsDtype('>i4')\n",
      "fatjet_pt            | float[]                  | AsJagged(AsDtype('>f4'))\n",
      "fatjet_eta           | float[]                  | AsJagged(AsDtype('>f4'))\n",
      "fatjet_phi           | float[]                  | AsJagged(AsDtype('>f4'))\n",
      "fatjet_mass          | float[]                  | AsJagged(AsDtype('>f4'))\n",
      "fatjet_tau1          | float[]                  | AsJagged(AsDtype('>f4'))\n",
      "fatjet_tau2          | float[]                  | AsJagged(AsDtype('>f4'))\n",
      "fatjet_tau3          | float[]                  | AsJagged(AsDtype('>f4'))\n",
      "fatjet_tau4          | float[]                  | AsJagged(AsDtype('>f4'))\n",
      "fatjet_msoftdrop     | float[]                  | AsJagged(AsDtype('>f4'))\n",
      "fatjet_particleNe... | float[]                  | AsJagged(AsDtype('>f4'))\n",
      "fatjet_particleNe... | float[]                  | AsJagged(AsDtype('>f4'))\n",
      "fatjet_particleNe... | float[]                  | AsJagged(AsDtype('>f4'))\n",
      "metpuppi_size        | int32_t                  | AsDtype('>i4')\n",
      "metpuppi_pt          | float[]                  | AsJagged(AsDtype('>f4'))\n",
      "metpuppi_phi         | float[]                  | AsJagged(AsDtype('>f4'))\n",
      "metpf_size           | int32_t                  | AsDtype('>i4')\n",
      "metpf_pt             | float[]                  | AsJagged(AsDtype('>f4'))\n",
      "metpf_phi            | float[]                  | AsJagged(AsDtype('>f4'))\n"
     ]
    }
   ],
   "source": [
    "tree_.show()"
   ]
  },
  {
   "cell_type": "markdown",
   "metadata": {},
   "source": [
    "A shorter option to read a tree from a file is:\n",
    "```\n",
    "tree_ = uproot4.open(filename+\":myana/mytree\")\n",
    "```\n",
    "\n",
    "To see the content of a single variable (we will see the number of verteces in each event):"
   ]
  },
  {
   "cell_type": "code",
   "execution_count": 15,
   "metadata": {},
   "outputs": [
    {
     "name": "stdout",
     "output_type": "stream",
     "text": [
      "[82, 107, 100, 92, 95, 76, 91, 76, 77, 100, ... 82, 91, 96, 98, 92, 84, 98, 86, 81]\n"
     ]
    }
   ],
   "source": [
    "vtx_size = tree_['vtx_size'].array()\n",
    "print(vtx_size)"
   ]
  },
  {
   "cell_type": "markdown",
   "metadata": {},
   "source": [
    "## Convert ROOT to pandas dataframe\n",
    "\n",
    "export the ROOT file content into pandas dataframe:\n",
    "\n",
    "The tricky part is that in ROOT files we usually store vectors, and the conversion to dataframes is not always trivial. The simplest way is to store different types of vectors in different dataframes:"
   ]
  },
  {
   "cell_type": "code",
   "execution_count": 16,
   "metadata": {},
   "outputs": [],
   "source": [
    "#variables_to_save=[tree_.keys()] # this will not work, due to vectors in the dataset\n",
    "muons_df = tree_.arrays(['muon_size','muon_pt','muon_eta','muon_phi'], library=\"pd\")\n",
    "genproton_df = tree_.arrays(['genproton_size','genproton_xi','genproton_pz','genproton_vz','genproton_ispu'], library=\"pd\")\n",
    "floats_df = tree_.arrays(['genvtx_t0'], library=\"pd\")"
   ]
  },
  {
   "cell_type": "code",
   "execution_count": 17,
   "metadata": {
    "scrolled": true
   },
   "outputs": [
    {
     "data": {
      "text/html": [
       "<div>\n",
       "<style scoped>\n",
       "    .dataframe tbody tr th:only-of-type {\n",
       "        vertical-align: middle;\n",
       "    }\n",
       "\n",
       "    .dataframe tbody tr th {\n",
       "        vertical-align: top;\n",
       "    }\n",
       "\n",
       "    .dataframe thead th {\n",
       "        text-align: right;\n",
       "    }\n",
       "</style>\n",
       "<table border=\"1\" class=\"dataframe\">\n",
       "  <thead>\n",
       "    <tr style=\"text-align: right;\">\n",
       "      <th></th>\n",
       "      <th></th>\n",
       "      <th>muon_size</th>\n",
       "      <th>muon_pt</th>\n",
       "      <th>muon_eta</th>\n",
       "      <th>muon_phi</th>\n",
       "    </tr>\n",
       "    <tr>\n",
       "      <th>entry</th>\n",
       "      <th>subentry</th>\n",
       "      <th></th>\n",
       "      <th></th>\n",
       "      <th></th>\n",
       "      <th></th>\n",
       "    </tr>\n",
       "  </thead>\n",
       "  <tbody>\n",
       "    <tr>\n",
       "      <th rowspan=\"5\" valign=\"top\">0</th>\n",
       "      <th>0</th>\n",
       "      <td>5</td>\n",
       "      <td>43.247822</td>\n",
       "      <td>-1.455321</td>\n",
       "      <td>-0.913104</td>\n",
       "    </tr>\n",
       "    <tr>\n",
       "      <th>1</th>\n",
       "      <td>5</td>\n",
       "      <td>30.963791</td>\n",
       "      <td>-0.153315</td>\n",
       "      <td>2.224801</td>\n",
       "    </tr>\n",
       "    <tr>\n",
       "      <th>2</th>\n",
       "      <td>5</td>\n",
       "      <td>30.680687</td>\n",
       "      <td>-1.407680</td>\n",
       "      <td>-0.913589</td>\n",
       "    </tr>\n",
       "    <tr>\n",
       "      <th>3</th>\n",
       "      <td>5</td>\n",
       "      <td>5.158920</td>\n",
       "      <td>-2.003787</td>\n",
       "      <td>-0.639217</td>\n",
       "    </tr>\n",
       "    <tr>\n",
       "      <th>4</th>\n",
       "      <td>5</td>\n",
       "      <td>3.028767</td>\n",
       "      <td>-1.797588</td>\n",
       "      <td>0.010531</td>\n",
       "    </tr>\n",
       "  </tbody>\n",
       "</table>\n",
       "</div>"
      ],
      "text/plain": [
       "                muon_size    muon_pt  muon_eta  muon_phi\n",
       "entry subentry                                          \n",
       "0     0                 5  43.247822 -1.455321 -0.913104\n",
       "      1                 5  30.963791 -0.153315  2.224801\n",
       "      2                 5  30.680687 -1.407680 -0.913589\n",
       "      3                 5   5.158920 -2.003787 -0.639217\n",
       "      4                 5   3.028767 -1.797588  0.010531"
      ]
     },
     "execution_count": 17,
     "metadata": {},
     "output_type": "execute_result"
    }
   ],
   "source": [
    "muons_df.head()"
   ]
  },
  {
   "cell_type": "code",
   "execution_count": 18,
   "metadata": {
    "scrolled": true
   },
   "outputs": [
    {
     "data": {
      "text/html": [
       "<div>\n",
       "<style scoped>\n",
       "    .dataframe tbody tr th:only-of-type {\n",
       "        vertical-align: middle;\n",
       "    }\n",
       "\n",
       "    .dataframe tbody tr th {\n",
       "        vertical-align: top;\n",
       "    }\n",
       "\n",
       "    .dataframe thead th {\n",
       "        text-align: right;\n",
       "    }\n",
       "</style>\n",
       "<table border=\"1\" class=\"dataframe\">\n",
       "  <thead>\n",
       "    <tr style=\"text-align: right;\">\n",
       "      <th></th>\n",
       "      <th></th>\n",
       "      <th>genproton_size</th>\n",
       "      <th>genproton_xi</th>\n",
       "      <th>genproton_pz</th>\n",
       "      <th>genproton_vz</th>\n",
       "      <th>genproton_ispu</th>\n",
       "    </tr>\n",
       "    <tr>\n",
       "      <th>entry</th>\n",
       "      <th>subentry</th>\n",
       "      <th></th>\n",
       "      <th></th>\n",
       "      <th></th>\n",
       "      <th></th>\n",
       "      <th></th>\n",
       "    </tr>\n",
       "  </thead>\n",
       "  <tbody>\n",
       "    <tr>\n",
       "      <th rowspan=\"5\" valign=\"top\">0</th>\n",
       "      <th>0</th>\n",
       "      <td>75</td>\n",
       "      <td>2.434003e-03</td>\n",
       "      <td>6982.961914</td>\n",
       "      <td>1.830249e+00</td>\n",
       "      <td>0</td>\n",
       "    </tr>\n",
       "    <tr>\n",
       "      <th>1</th>\n",
       "      <td>75</td>\n",
       "      <td>1.157838e-02</td>\n",
       "      <td>-6918.951172</td>\n",
       "      <td>1.830249e+00</td>\n",
       "      <td>0</td>\n",
       "    </tr>\n",
       "    <tr>\n",
       "      <th>2</th>\n",
       "      <td>75</td>\n",
       "      <td>2.434003e-03</td>\n",
       "      <td>6982.961914</td>\n",
       "      <td>0.000000e+00</td>\n",
       "      <td>1</td>\n",
       "    </tr>\n",
       "    <tr>\n",
       "      <th>3</th>\n",
       "      <td>75</td>\n",
       "      <td>1.157838e-02</td>\n",
       "      <td>-6918.951172</td>\n",
       "      <td>0.000000e+00</td>\n",
       "      <td>1</td>\n",
       "    </tr>\n",
       "    <tr>\n",
       "      <th>4</th>\n",
       "      <td>75</td>\n",
       "      <td>-4.303962e-08</td>\n",
       "      <td>-7000.000000</td>\n",
       "      <td>-4.259523e-16</td>\n",
       "      <td>1</td>\n",
       "    </tr>\n",
       "  </tbody>\n",
       "</table>\n",
       "</div>"
      ],
      "text/plain": [
       "                genproton_size  genproton_xi  genproton_pz  genproton_vz  \\\n",
       "entry subentry                                                             \n",
       "0     0                     75  2.434003e-03   6982.961914  1.830249e+00   \n",
       "      1                     75  1.157838e-02  -6918.951172  1.830249e+00   \n",
       "      2                     75  2.434003e-03   6982.961914  0.000000e+00   \n",
       "      3                     75  1.157838e-02  -6918.951172  0.000000e+00   \n",
       "      4                     75 -4.303962e-08  -7000.000000 -4.259523e-16   \n",
       "\n",
       "                genproton_ispu  \n",
       "entry subentry                  \n",
       "0     0                      0  \n",
       "      1                      0  \n",
       "      2                      1  \n",
       "      3                      1  \n",
       "      4                      1  "
      ]
     },
     "execution_count": 18,
     "metadata": {},
     "output_type": "execute_result"
    }
   ],
   "source": [
    "genproton_df.head()"
   ]
  },
  {
   "cell_type": "code",
   "execution_count": 19,
   "metadata": {},
   "outputs": [
    {
     "data": {
      "text/html": [
       "<div>\n",
       "<style scoped>\n",
       "    .dataframe tbody tr th:only-of-type {\n",
       "        vertical-align: middle;\n",
       "    }\n",
       "\n",
       "    .dataframe tbody tr th {\n",
       "        vertical-align: top;\n",
       "    }\n",
       "\n",
       "    .dataframe thead th {\n",
       "        text-align: right;\n",
       "    }\n",
       "</style>\n",
       "<table border=\"1\" class=\"dataframe\">\n",
       "  <thead>\n",
       "    <tr style=\"text-align: right;\">\n",
       "      <th></th>\n",
       "      <th>genvtx_t0</th>\n",
       "    </tr>\n",
       "  </thead>\n",
       "  <tbody>\n",
       "    <tr>\n",
       "      <th>0</th>\n",
       "      <td>0.227750</td>\n",
       "    </tr>\n",
       "    <tr>\n",
       "      <th>1</th>\n",
       "      <td>0.086690</td>\n",
       "    </tr>\n",
       "    <tr>\n",
       "      <th>2</th>\n",
       "      <td>-0.218516</td>\n",
       "    </tr>\n",
       "    <tr>\n",
       "      <th>3</th>\n",
       "      <td>-0.185044</td>\n",
       "    </tr>\n",
       "    <tr>\n",
       "      <th>4</th>\n",
       "      <td>-0.651508</td>\n",
       "    </tr>\n",
       "  </tbody>\n",
       "</table>\n",
       "</div>"
      ],
      "text/plain": [
       "   genvtx_t0\n",
       "0   0.227750\n",
       "1   0.086690\n",
       "2  -0.218516\n",
       "3  -0.185044\n",
       "4  -0.651508"
      ]
     },
     "execution_count": 19,
     "metadata": {},
     "output_type": "execute_result"
    }
   ],
   "source": [
    "floats_df.head()"
   ]
  },
  {
   "cell_type": "markdown",
   "metadata": {},
   "source": [
    "### analyze the tree\n",
    "\n",
    "Now let's do a simple analysis, we will compute invariant of pair of signal protons, and compare it to the invariant mass of two muons with highest $p_T$:\n",
    "\n",
    "Muon kinematics are vectors, and the easy way is to process tree, and create floats for each event and store them in the dataframe."
   ]
  },
  {
   "cell_type": "code",
   "execution_count": 20,
   "metadata": {},
   "outputs": [],
   "source": [
    "import pandas as pd\n",
    "import numpy as np"
   ]
  },
  {
   "cell_type": "markdown",
   "metadata": {},
   "source": [
    "create new arrays:"
   ]
  },
  {
   "cell_type": "code",
   "execution_count": 21,
   "metadata": {},
   "outputs": [],
   "source": [
    "n_events = len(floats_df)\n",
    "mpp=np.zeros(n_events)\n",
    "mll=np.zeros(n_events)"
   ]
  },
  {
   "cell_type": "markdown",
   "metadata": {},
   "source": [
    "read proton content from the file"
   ]
  },
  {
   "cell_type": "code",
   "execution_count": 22,
   "metadata": {},
   "outputs": [],
   "source": [
    "N_protons=tree_['genproton_size'].array()\n",
    "genproton_xi=tree_['genproton_xi'].array()\n",
    "genproton_pz=tree_['genproton_pz'].array()\n",
    "genproton_vz=tree_['genproton_vz'].array()\n",
    "genproton_ispu=tree_['genproton_ispu'].array()"
   ]
  },
  {
   "cell_type": "markdown",
   "metadata": {},
   "source": [
    "compute mass of two signal protons"
   ]
  },
  {
   "cell_type": "code",
   "execution_count": 23,
   "metadata": {},
   "outputs": [],
   "source": [
    "for ev, nprotons in enumerate(N_protons):\n",
    "    xi_pos=0; xi_neg=0; n_protons=0\n",
    "    for i in range(nprotons):\n",
    "        if genproton_ispu[ev][i]: continue\n",
    "        n_protons=n_protons+1\n",
    "        if genproton_pz[ev][i] > 0: xi_pos=genproton_xi[ev][i]\n",
    "        else: xi_neg=genproton_xi[ev][i]\n",
    "    if n_protons != 2: \n",
    "        print('Error, find '+str(n_protons)+' signal protons, skip')\n",
    "        mpp[ev]=-1.\n",
    "    mpp[ev]=14000.*np.sqrt(xi_pos*xi_neg)\n"
   ]
  },
  {
   "cell_type": "markdown",
   "metadata": {},
   "source": [
    "read muon content from the file:"
   ]
  },
  {
   "cell_type": "code",
   "execution_count": 24,
   "metadata": {},
   "outputs": [],
   "source": [
    "N_muons=tree_['muon_size'].array()\n",
    "mu_pt=tree_['muon_pt'].array()\n",
    "mu_eta=tree_['muon_eta'].array()\n",
    "mu_phi=tree_['muon_phi'].array()"
   ]
  },
  {
   "cell_type": "markdown",
   "metadata": {},
   "source": [
    "compute invariant mass of peir of leptons:"
   ]
  },
  {
   "cell_type": "code",
   "execution_count": 25,
   "metadata": {},
   "outputs": [],
   "source": [
    "for ev, nmuons in enumerate(N_muons):\n",
    "    mu1_pt=0; mu1_eta=0; mu1_phi=0\n",
    "    mu2_pt=0; mu2_eta=0; mu2_phi=0\n",
    "    for i in range(nmuons):\n",
    "        if mu_pt[ev][i]>mu1_pt:\n",
    "            mu2_pt=mu1_pt\n",
    "            mu2_eta=mu1_eta\n",
    "            mu2_phi=mu1_phi\n",
    "            \n",
    "            mu1_pt=mu_pt[ev][i]\n",
    "            mu1_eta=mu_eta[ev][i]\n",
    "            mu1_phi=mu_phi[ev][i]\n",
    "        elif mu_pt[ev][i]>mu2_pt:\n",
    "            mu2_pt=mu_pt[ev][i]\n",
    "            mu2_eta=mu_eta[ev][i]\n",
    "            mu2_phi=mu_phi[ev][i]            \n",
    "    \n",
    "    # compute invariant mass of lepton pair\n",
    "    sumE=mu1_pt*np.cosh(mu1_eta)+mu2_pt*np.cosh(mu2_eta)\n",
    "    sumPx=mu1_pt*np.cos(mu1_phi)+mu2_pt*np.cos(mu2_phi)\n",
    "    sumPy=mu1_pt*np.sin(mu1_phi)+mu2_pt*np.sin(mu2_phi)\n",
    "    sumPz=mu1_pt*np.sinh(mu1_eta)+mu2_pt*np.sinh(mu2_eta)\n",
    "    \n",
    "    \n",
    "    mll2 = sumE**2 - sumPx**2 - sumPy**2 - sumPz**2\n",
    "    mll[ev]=np.sqrt(mll2)\n",
    "\n",
    "    "
   ]
  },
  {
   "cell_type": "markdown",
   "metadata": {},
   "source": [
    "To end this exersize, plot the correlation between $m_{ll}$ and $m_{pp}$"
   ]
  },
  {
   "cell_type": "code",
   "execution_count": 26,
   "metadata": {},
   "outputs": [
    {
     "data": {
      "text/plain": [
       "<Figure size 640x480 with 1 Axes>"
      ]
     },
     "metadata": {},
     "output_type": "display_data"
    }
   ],
   "source": [
    "import matplotlib.pyplot as plt\n",
    "import numpy as np\n",
    "\n",
    "# Fixing random state for reproducibility\n",
    "np.random.seed(19680801)\n",
    "\n",
    "plt.scatter(mpp, mll)\n",
    "plt.xlabel(\"mpp\")\n",
    "plt.ylabel(\"mll\")\n",
    "plt.show()"
   ]
  },
  {
   "cell_type": "code",
   "execution_count": null,
   "metadata": {},
   "outputs": [],
   "source": []
  },
  {
   "cell_type": "code",
   "execution_count": null,
   "metadata": {},
   "outputs": [],
   "source": []
  }
 ],
 "metadata": {
  "kernelspec": {
   "display_name": "Python 3",
   "language": "python",
   "name": "python3"
  },
  "language_info": {
   "codemirror_mode": {
    "name": "ipython",
    "version": 3
   },
   "file_extension": ".py",
   "mimetype": "text/x-python",
   "name": "python",
   "nbconvert_exporter": "python",
   "pygments_lexer": "ipython3",
   "version": "3.8.6"
  }
 },
 "nbformat": 4,
 "nbformat_minor": 4
}
