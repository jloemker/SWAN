{
 "cells": [
  {
   "cell_type": "markdown",
   "metadata": {},
   "source": [
    "# Data exploration\n",
    "\n",
    "### Introduction\n",
    "\n",
    "The first step of any analysis is to understand what we are searching for. In our analysis we aim to measure the central exclusive di-lepton production, $pp\\to p\\oplus \\ell\\ell \\oplus p$ process with $\\ell\\in\\{ e,\\mu \\} $. Feinman diagram of this process are shown bellow: \n",
    "\n",
    "<img src=\"img/diagrams.png\" alt=\"Feinmann diagrams\" style=\"width: 700px;\"/>\n",
    "\n",
    "Where in our case, we will consider only electrons and muons. \n",
    "\n",
    "---\n",
    "The measurement using 2016 data was published in [JHEP07(2018)153](https://arxiv.org/abs/1803.04496). \n",
    "\n",
    "---\n",
    "\n",
    "To understand the process better, we will explore the final state signature. We will use [uproot4](https://github.com/scikit-hep/uproot4) to read ROOT file, and [numpy](https://numpy.org/) arrays to analyze the data\n"
   ]
  },
  {
   "cell_type": "code",
   "execution_count": 1,
   "metadata": {},
   "outputs": [],
   "source": [
    "#start with standard python imports\n",
    "#!pip install --user mplhep uproot4 #enable this line if the imports fails\n",
    "import numpy as np\n",
    "import uproot4\n",
    "import matplotlib.pyplot as plt\n",
    "import mplhep as hep\n",
    "from matplotlib.colors import LogNorm"
   ]
  },
  {
   "cell_type": "code",
   "execution_count": 2,
   "metadata": {},
   "outputs": [],
   "source": [
    "#to make the plots in CMS style execute this line\n",
    "plt.style.use([hep.style.ROOT, hep.style.firamath])\n",
    "plt.style.use(hep.style.CMS)"
   ]
  },
  {
   "cell_type": "code",
   "execution_count": 6,
   "metadata": {},
   "outputs": [],
   "source": [
    "#Execute this line if running on SWAN, otherwise update the path to the data files:\n",
    "#PATH='/eos/cms/store/user/jjhollar/CERNSummerStudentProject2021/'\n",
    "PATH='data'\n",
    "filename=PATH+'/gammagammaMuMu_FPMC_pT25_PU140_NTUPLE_1_version2.root'"
   ]
  },
  {
   "cell_type": "markdown",
   "metadata": {},
   "source": [
    "## Loading the data (signal)\n",
    "\n",
    "We will load MC file of the simulated signal events. For more info how to read ROOT files, see [this](UpROOT4_example.ipynb) notebook\n",
    "\n"
   ]
  },
  {
   "cell_type": "code",
   "execution_count": 7,
   "metadata": {},
   "outputs": [],
   "source": [
    "tree = uproot4.open(filename+\":myana/mytree\")"
   ]
  },
  {
   "cell_type": "markdown",
   "metadata": {},
   "source": [
    "Browse the names of the branches:"
   ]
  },
  {
   "cell_type": "code",
   "execution_count": 8,
   "metadata": {},
   "outputs": [
    {
     "name": "stdout",
     "output_type": "stream",
     "text": [
      "name                 | typename                 | interpretation                \n",
      "---------------------+--------------------------+-------------------------------\n",
      "evt_size             | int32_t                  | AsDtype('>i4')\n",
      "vtx_size             | int32_t                  | AsDtype('>i4')\n",
      "vtx_x                | float[]                  | AsJagged(AsDtype('>f4'))\n",
      "vtx_y                | float[]                  | AsJagged(AsDtype('>f4'))\n",
      "vtx_z                | float[]                  | AsJagged(AsDtype('>f4'))\n",
      "vtx_pt2              | float[]                  | AsJagged(AsDtype('>f4'))\n",
      "vtx4D_size           | int32_t                  | AsDtype('>i4')\n",
      "vtx4D_x              | float[]                  | AsJagged(AsDtype('>f4'))\n",
      "vtx4D_y              | float[]                  | AsJagged(AsDtype('>f4'))\n",
      "vtx4D_z              | float[]                  | AsJagged(AsDtype('>f4'))\n",
      "vtx4D_t              | float[]                  | AsJagged(AsDtype('>f4'))\n",
      "vtx4D_terr           | float[]                  | AsJagged(AsDtype('>f4'))\n",
      "vtx4D_pt2            | float[]                  | AsJagged(AsDtype('>f4'))\n",
      "pfcand_size          | int32_t                  | AsDtype('>i4')\n",
      "pfcand_pid           | int32_t[]                | AsJagged(AsDtype('>i4'))\n",
      "pfcand_pt            | float[]                  | AsJagged(AsDtype('>f4'))\n",
      "pfcand_eta           | float[]                  | AsJagged(AsDtype('>f4'))\n",
      "pfcand_phi           | float[]                  | AsJagged(AsDtype('>f4'))\n",
      "pfcand_mass          | float[]                  | AsJagged(AsDtype('>f4'))\n",
      "pfcand_t             | float[]                  | AsJagged(AsDtype('>f4'))\n",
      "pfcand_terr          | float[]                  | AsJagged(AsDtype('>f4'))\n",
      "pfcand_vz            | float[]                  | AsJagged(AsDtype('>f4'))\n",
      "npuVertices          | int32_t                  | AsDtype('>i4')\n",
      "trueInteractions     | float                    | AsDtype('>f4')\n",
      "genpart_size         | int32_t                  | AsDtype('>i4')\n",
      "genpart_pid          | int32_t[]                | AsJagged(AsDtype('>i4'))\n",
      "genpart_status       | int32_t[]                | AsJagged(AsDtype('>i4'))\n",
      "genpart_pt           | float[]                  | AsJagged(AsDtype('>f4'))\n",
      "genpart_eta          | float[]                  | AsJagged(AsDtype('>f4'))\n",
      "genpart_phi          | float[]                  | AsJagged(AsDtype('>f4'))\n",
      "genpart_mass         | float[]                  | AsJagged(AsDtype('>f4'))\n",
      "genpart_m1           | int32_t[]                | AsJagged(AsDtype('>i4'))\n",
      "genpart_m2           | int32_t[]                | AsJagged(AsDtype('>i4'))\n",
      "genpart_d1           | int32_t[]                | AsJagged(AsDtype('>i4'))\n",
      "genpart_d2           | int32_t[]                | AsJagged(AsDtype('>i4'))\n",
      "genjet_size          | int32_t                  | AsDtype('>i4')\n",
      "genjet_pt            | float[]                  | AsJagged(AsDtype('>f4'))\n",
      "genjet_eta           | float[]                  | AsJagged(AsDtype('>f4'))\n",
      "genjet_phi           | float[]                  | AsJagged(AsDtype('>f4'))\n",
      "genjet_mass          | float[]                  | AsJagged(AsDtype('>f4'))\n",
      "genmet_size          | int32_t                  | AsDtype('>i4')\n",
      "genmet_pt            | float[]                  | AsJagged(AsDtype('>f4'))\n",
      "genmet_phi           | float[]                  | AsJagged(AsDtype('>f4'))\n",
      "genproton_size       | int32_t                  | AsDtype('>i4')\n",
      "genproton_xi         | float[]                  | AsJagged(AsDtype('>f4'))\n",
      "genproton_pz         | float[]                  | AsJagged(AsDtype('>f4'))\n",
      "genproton_vz         | float[]                  | AsJagged(AsDtype('>f4'))\n",
      "genproton_ispu       | int32_t[]                | AsJagged(AsDtype('>i4'))\n",
      "genvtx_t0            | float                    | AsDtype('>f4')\n",
      "gamma_size           | int32_t                  | AsDtype('>i4')\n",
      "gamma_pt             | float[]                  | AsJagged(AsDtype('>f4'))\n",
      "gamma_eta            | float[]                  | AsJagged(AsDtype('>f4'))\n",
      "gamma_phi            | float[]                  | AsJagged(AsDtype('>f4'))\n",
      "gamma_mass           | float[]                  | AsJagged(AsDtype('>f4'))\n",
      "gamma_idvar          | float[]                  | AsJagged(AsDtype('>f4'))\n",
      "gamma_reliso         | float[]                  | AsJagged(AsDtype('>f4'))\n",
      "gamma_idpass         | uint32_t[]               | AsJagged(AsDtype('>u4'))\n",
      "gamma_isopass        | uint32_t[]               | AsJagged(AsDtype('>u4'))\n",
      "elec_size            | int32_t                  | AsDtype('>i4')\n",
      "elec_pt              | float[]                  | AsJagged(AsDtype('>f4'))\n",
      "elec_eta             | float[]                  | AsJagged(AsDtype('>f4'))\n",
      "elec_phi             | float[]                  | AsJagged(AsDtype('>f4'))\n",
      "elec_mass            | float[]                  | AsJagged(AsDtype('>f4'))\n",
      "elec_charge          | int32_t[]                | AsJagged(AsDtype('>i4'))\n",
      "elec_idvar           | float[]                  | AsJagged(AsDtype('>f4'))\n",
      "elec_reliso          | float[]                  | AsJagged(AsDtype('>f4'))\n",
      "elec_idpass          | uint32_t[]               | AsJagged(AsDtype('>u4'))\n",
      "elec_isopass         | uint32_t[]               | AsJagged(AsDtype('>u4'))\n",
      "muon_size            | int32_t                  | AsDtype('>i4')\n",
      "muon_pt              | float[]                  | AsJagged(AsDtype('>f4'))\n",
      "muon_eta             | float[]                  | AsJagged(AsDtype('>f4'))\n",
      "muon_phi             | float[]                  | AsJagged(AsDtype('>f4'))\n",
      "muon_mass            | float[]                  | AsJagged(AsDtype('>f4'))\n",
      "muon_charge          | int32_t[]                | AsJagged(AsDtype('>i4'))\n",
      "muon_idvar           | float[]                  | AsJagged(AsDtype('>f4'))\n",
      "muon_reliso          | float[]                  | AsJagged(AsDtype('>f4'))\n",
      "muon_idpass          | uint32_t[]               | AsJagged(AsDtype('>u4'))\n",
      "muon_isopass         | uint32_t[]               | AsJagged(AsDtype('>u4'))\n",
      "tau_size             | int32_t                  | AsDtype('>i4')\n",
      "tau_pt               | float[]                  | AsJagged(AsDtype('>f4'))\n",
      "tau_eta              | float[]                  | AsJagged(AsDtype('>f4'))\n",
      "tau_phi              | float[]                  | AsJagged(AsDtype('>f4'))\n",
      "tau_mass             | float[]                  | AsJagged(AsDtype('>f4'))\n",
      "tau_charge           | int32_t[]                | AsJagged(AsDtype('>i4'))\n",
      "tau_decaymode        | float[]                  | AsJagged(AsDtype('>f4'))\n",
      "tau_chargediso       | float[]                  | AsJagged(AsDtype('>f4'))\n",
      "tau_neutraliso       | float[]                  | AsJagged(AsDtype('>f4'))\n",
      "tau_combinediso      | float[]                  | AsJagged(AsDtype('>f4'))\n",
      "tau_isopass          | uint32_t[]               | AsJagged(AsDtype('>u4'))\n",
      "jetpuppi_size        | int32_t                  | AsDtype('>i4')\n",
      "jetpuppi_pt          | float[]                  | AsJagged(AsDtype('>f4'))\n",
      "jetpuppi_eta         | float[]                  | AsJagged(AsDtype('>f4'))\n",
      "jetpuppi_phi         | float[]                  | AsJagged(AsDtype('>f4'))\n",
      "jetpuppi_mass        | float[]                  | AsJagged(AsDtype('>f4'))\n",
      "jetpuppi_idpass      | uint32_t[]               | AsJagged(AsDtype('>u4'))\n",
      "jetpuppi_DeepJET     | float[]                  | AsJagged(AsDtype('>f4'))\n",
      "jetpuppi_btag        | uint32_t[]               | AsJagged(AsDtype('>u4'))\n",
      "jetchs_size          | int32_t                  | AsDtype('>i4')\n",
      "jetchs_pt            | float[]                  | AsJagged(AsDtype('>f4'))\n",
      "jetchs_eta           | float[]                  | AsJagged(AsDtype('>f4'))\n",
      "jetchs_phi           | float[]                  | AsJagged(AsDtype('>f4'))\n",
      "jetchs_mass          | float[]                  | AsJagged(AsDtype('>f4'))\n",
      "jetchs_idpass        | uint32_t[]               | AsJagged(AsDtype('>u4'))\n",
      "jetchs_DeepJET       | float[]                  | AsJagged(AsDtype('>f4'))\n",
      "jetchs_btag          | uint32_t[]               | AsJagged(AsDtype('>u4'))\n",
      "fatjet_size          | int32_t                  | AsDtype('>i4')\n",
      "fatjet_pt            | float[]                  | AsJagged(AsDtype('>f4'))\n",
      "fatjet_eta           | float[]                  | AsJagged(AsDtype('>f4'))\n",
      "fatjet_phi           | float[]                  | AsJagged(AsDtype('>f4'))\n",
      "fatjet_mass          | float[]                  | AsJagged(AsDtype('>f4'))\n",
      "fatjet_tau1          | float[]                  | AsJagged(AsDtype('>f4'))\n",
      "fatjet_tau2          | float[]                  | AsJagged(AsDtype('>f4'))\n",
      "fatjet_tau3          | float[]                  | AsJagged(AsDtype('>f4'))\n",
      "fatjet_tau4          | float[]                  | AsJagged(AsDtype('>f4'))\n",
      "fatjet_msoftdrop     | float[]                  | AsJagged(AsDtype('>f4'))\n",
      "fatjet_particleNe... | float[]                  | AsJagged(AsDtype('>f4'))\n",
      "fatjet_particleNe... | float[]                  | AsJagged(AsDtype('>f4'))\n",
      "fatjet_particleNe... | float[]                  | AsJagged(AsDtype('>f4'))\n",
      "metpuppi_size        | int32_t                  | AsDtype('>i4')\n",
      "metpuppi_pt          | float[]                  | AsJagged(AsDtype('>f4'))\n",
      "metpuppi_phi         | float[]                  | AsJagged(AsDtype('>f4'))\n",
      "metpf_size           | int32_t                  | AsDtype('>i4')\n",
      "metpf_pt             | float[]                  | AsJagged(AsDtype('>f4'))\n",
      "metpf_phi            | float[]                  | AsJagged(AsDtype('>f4'))\n"
     ]
    }
   ],
   "source": [
    "tree.show()"
   ]
  },
  {
   "cell_type": "markdown",
   "metadata": {},
   "source": [
    "### Making plots\n",
    "\n",
    "In the next cell we will plot the number of protons stored for each event:"
   ]
  },
  {
   "cell_type": "code",
   "execution_count": 24,
   "metadata": {},
   "outputs": [],
   "source": [
    "# read array of protons\n",
    "proton_size = tree['genproton_size'].array(library=\"pd\")"
   ]
  },
  {
   "cell_type": "code",
   "execution_count": 30,
   "metadata": {},
   "outputs": [],
   "source": [
    "#convert the array to histogram with defined number of bins\n",
    "bins = np.linspace(0,150,150)\n",
    "data=np.histogram(proton_size, bins,density=True)"
   ]
  },
  {
   "cell_type": "code",
   "execution_count": 33,
   "metadata": {},
   "outputs": [
    {
     "name": "stderr",
     "output_type": "stream",
     "text": [
      "No handles with labels found to put in legend.\n"
     ]
    },
    {
     "data": {
      "image/png": "[encoded data removed]",
      "text/plain": [
       "<Figure size 720x720 with 1 Axes>"
      ]
     },
     "metadata": {
      "needs_background": "light"
     },
     "output_type": "display_data"
    }
   ],
   "source": [
    "# plot a histogram of proton multiplicity\n",
    "f, ax = plt.subplots()\n",
    "hep.histplot(data, bins, ax=ax)\n",
    "\n",
    "#add different labels to the plot and save to a file\n",
    "hep.cms.label(llabel=\"Preliminary\", rlabel=\"Summer 2021\", ax=ax)\n",
    "ax.legend(); \n",
    "ax.set(xlabel='Number of protons in event', ylabel='number of entries')\n",
    "plt.savefig('number_protons_signal.png')\n",
    "    "
   ]
  },
  {
   "cell_type": "code",
   "execution_count": null,
   "metadata": {},
   "outputs": [],
   "source": []
  }
 ],
 "metadata": {
  "kernelspec": {
   "display_name": "Python 3",
   "language": "python",
   "name": "python3"
  },
  "language_info": {
   "codemirror_mode": {
    "name": "ipython",
    "version": 3
   },
   "file_extension": ".py",
   "mimetype": "text/x-python",
   "name": "python",
   "nbconvert_exporter": "python",
   "pygments_lexer": "ipython3",
   "version": "3.6.12"
  }
 },
 "nbformat": 4,
 "nbformat_minor": 4
}
