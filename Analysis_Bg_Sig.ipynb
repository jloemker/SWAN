{
 "cells": [
  {
   "cell_type": "code",
   "execution_count": 1,
   "id": "portuguese-tonight",
   "metadata": {},
   "outputs": [
    {
     "name": "stdout",
     "output_type": "stream",
     "text": [
      "Welcome to JupyROOT 6.24/00\n"
     ]
    }
   ],
   "source": [
    "import uproot\n",
    "import pandas as pd\n",
    "import mplhep as hep\n",
    "import numpy as np\n",
    "import awkward\n",
    "import ROOT\n",
    "import scipy.stats as stats #this one used to do fits\n",
    "import matplotlib.pyplot as plt\n",
    "from tqdm import tqdm #this is a fancy feature to make a progress bar as the loop proceed\n",
    "\n",
    "#to make the plots in CMS style execute this line\n",
    "plt.style.use([hep.style.ROOT, hep.style.firamath])\n",
    "plt.style.use(hep.style.CMS)"
   ]
  },
  {
   "cell_type": "code",
   "execution_count": 2,
   "id": "confidential-scanner",
   "metadata": {},
   "outputs": [],
   "source": [
    "#Execute this line if running on SWAN, otherwise update the path to the data files:\n",
    "PATH='/eos/cms/store/user/jjhollar/CERNSummerStudentProject2021/'\n",
    "#PATH='data'\n",
    "filename=PATH+'/gammagammaMuMu_FPMC_pT25_PU140_NTUPLE_1_version4.root'"
   ]
  },
  {
   "cell_type": "code",
   "execution_count": 3,
   "id": "received-behalf",
   "metadata": {},
   "outputs": [
    {
     "name": "stdout",
     "output_type": "stream",
     "text": [
      "name                 | typename                 | interpretation                \n",
      "---------------------+--------------------------+-------------------------------\n",
      "evt_size             | int32_t                  | AsDtype('>i4')\n",
      "vtx_size             | int32_t                  | AsDtype('>i4')\n",
      "vtx_x                | float[]                  | AsJagged(AsDtype('>f4'))\n",
      "vtx_y                | float[]                  | AsJagged(AsDtype('>f4'))\n",
      "vtx_z                | float[]                  | AsJagged(AsDtype('>f4'))\n",
      "vtx_pt2              | float[]                  | AsJagged(AsDtype('>f4'))\n",
      "vtx4D_size           | int32_t                  | AsDtype('>i4')\n",
      "vtx4D_x              | float[]                  | AsJagged(AsDtype('>f4'))\n",
      "vtx4D_y              | float[]                  | AsJagged(AsDtype('>f4'))\n",
      "vtx4D_z              | float[]                  | AsJagged(AsDtype('>f4'))\n",
      "vtx4D_t              | float[]                  | AsJagged(AsDtype('>f4'))\n",
      "vtx4D_terr           | float[]                  | AsJagged(AsDtype('>f4'))\n",
      "vtx4D_pt2            | float[]                  | AsJagged(AsDtype('>f4'))\n",
      "pfcand_size          | int32_t                  | AsDtype('>i4')\n",
      "pfcand_pid           | int32_t[]                | AsJagged(AsDtype('>i4'))\n",
      "pfcand_pt            | float[]                  | AsJagged(AsDtype('>f4'))\n",
      "pfcand_eta           | float[]                  | AsJagged(AsDtype('>f4'))\n",
      "pfcand_phi           | float[]                  | AsJagged(AsDtype('>f4'))\n",
      "pfcand_mass          | float[]                  | AsJagged(AsDtype('>f4'))\n",
      "pfcand_t             | float[]                  | AsJagged(AsDtype('>f4'))\n",
      "pfcand_terr          | float[]                  | AsJagged(AsDtype('>f4'))\n",
      "pfcand_vz            | float[]                  | AsJagged(AsDtype('>f4'))\n",
      "npuVertices          | int32_t                  | AsDtype('>i4')\n",
      "trueInteractions     | float                    | AsDtype('>f4')\n",
      "genpart_size         | int32_t                  | AsDtype('>i4')\n",
      "genpart_pid          | int32_t[]                | AsJagged(AsDtype('>i4'))\n",
      "genpart_status       | int32_t[]                | AsJagged(AsDtype('>i4'))\n",
      "genpart_pt           | float[]                  | AsJagged(AsDtype('>f4'))\n",
      "genpart_eta          | float[]                  | AsJagged(AsDtype('>f4'))\n",
      "genpart_phi          | float[]                  | AsJagged(AsDtype('>f4'))\n",
      "genpart_mass         | float[]                  | AsJagged(AsDtype('>f4'))\n",
      "genpart_m1           | int32_t[]                | AsJagged(AsDtype('>i4'))\n",
      "genpart_m2           | int32_t[]                | AsJagged(AsDtype('>i4'))\n",
      "genpart_d1           | int32_t[]                | AsJagged(AsDtype('>i4'))\n",
      "genpart_d2           | int32_t[]                | AsJagged(AsDtype('>i4'))\n",
      "genjet_size          | int32_t                  | AsDtype('>i4')\n",
      "genjet_pt            | float[]                  | AsJagged(AsDtype('>f4'))\n",
      "genjet_eta           | float[]                  | AsJagged(AsDtype('>f4'))\n",
      "genjet_phi           | float[]                  | AsJagged(AsDtype('>f4'))\n",
      "genjet_mass          | float[]                  | AsJagged(AsDtype('>f4'))\n",
      "genmet_size          | int32_t                  | AsDtype('>i4')\n",
      "genmet_pt            | float[]                  | AsJagged(AsDtype('>f4'))\n",
      "genmet_phi           | float[]                  | AsJagged(AsDtype('>f4'))\n",
      "genproton_size       | int32_t                  | AsDtype('>i4')\n",
      "genproton_xi         | float[]                  | AsJagged(AsDtype('>f4'))\n",
      "genproton_pz         | float[]                  | AsJagged(AsDtype('>f4'))\n",
      "genproton_vz         | float[]                  | AsJagged(AsDtype('>f4'))\n",
      "genproton_ispu       | int32_t[]                | AsJagged(AsDtype('>i4'))\n",
      "genvtx_t0            | float                    | AsDtype('>f4')\n",
      "gamma_size           | int32_t                  | AsDtype('>i4')\n",
      "gamma_pt             | float[]                  | AsJagged(AsDtype('>f4'))\n",
      "gamma_eta            | float[]                  | AsJagged(AsDtype('>f4'))\n",
      "gamma_phi            | float[]                  | AsJagged(AsDtype('>f4'))\n",
      "gamma_mass           | float[]                  | AsJagged(AsDtype('>f4'))\n",
      "gamma_idvar          | float[]                  | AsJagged(AsDtype('>f4'))\n",
      "gamma_reliso         | float[]                  | AsJagged(AsDtype('>f4'))\n",
      "gamma_idpass         | uint32_t[]               | AsJagged(AsDtype('>u4'))\n",
      "gamma_isopass        | uint32_t[]               | AsJagged(AsDtype('>u4'))\n",
      "elec_size            | int32_t                  | AsDtype('>i4')\n",
      "elec_pt              | float[]                  | AsJagged(AsDtype('>f4'))\n",
      "elec_eta             | float[]                  | AsJagged(AsDtype('>f4'))\n",
      "elec_phi             | float[]                  | AsJagged(AsDtype('>f4'))\n",
      "elec_mass            | float[]                  | AsJagged(AsDtype('>f4'))\n",
      "elec_charge          | int32_t[]                | AsJagged(AsDtype('>i4'))\n",
      "elec_idvar           | float[]                  | AsJagged(AsDtype('>f4'))\n",
      "elec_reliso          | float[]                  | AsJagged(AsDtype('>f4'))\n",
      "elec_idpass          | uint32_t[]               | AsJagged(AsDtype('>u4'))\n",
      "elec_isopass         | uint32_t[]               | AsJagged(AsDtype('>u4'))\n",
      "muon_size            | int32_t                  | AsDtype('>i4')\n",
      "muon_pt              | float[]                  | AsJagged(AsDtype('>f4'))\n",
      "muon_eta             | float[]                  | AsJagged(AsDtype('>f4'))\n",
      "muon_phi             | float[]                  | AsJagged(AsDtype('>f4'))\n",
      "muon_mass            | float[]                  | AsJagged(AsDtype('>f4'))\n",
      "muon_charge          | int32_t[]                | AsJagged(AsDtype('>i4'))\n",
      "muon_idvar           | float[]                  | AsJagged(AsDtype('>f4'))\n",
      "muon_reliso          | float[]                  | AsJagged(AsDtype('>f4'))\n",
      "muon_idpass          | uint32_t[]               | AsJagged(AsDtype('>u4'))\n",
      "muon_isopass         | uint32_t[]               | AsJagged(AsDtype('>u4'))\n",
      "tau_size             | int32_t                  | AsDtype('>i4')\n",
      "tau_pt               | float[]                  | AsJagged(AsDtype('>f4'))\n",
      "tau_eta              | float[]                  | AsJagged(AsDtype('>f4'))\n",
      "tau_phi              | float[]                  | AsJagged(AsDtype('>f4'))\n",
      "tau_mass             | float[]                  | AsJagged(AsDtype('>f4'))\n",
      "tau_charge           | int32_t[]                | AsJagged(AsDtype('>i4'))\n",
      "tau_decaymode        | float[]                  | AsJagged(AsDtype('>f4'))\n",
      "tau_chargediso       | float[]                  | AsJagged(AsDtype('>f4'))\n",
      "tau_neutraliso       | float[]                  | AsJagged(AsDtype('>f4'))\n",
      "tau_combinediso      | float[]                  | AsJagged(AsDtype('>f4'))\n",
      "tau_isopass          | uint32_t[]               | AsJagged(AsDtype('>u4'))\n",
      "jetpuppi_size        | int32_t                  | AsDtype('>i4')\n",
      "jetpuppi_pt          | float[]                  | AsJagged(AsDtype('>f4'))\n",
      "jetpuppi_eta         | float[]                  | AsJagged(AsDtype('>f4'))\n",
      "jetpuppi_phi         | float[]                  | AsJagged(AsDtype('>f4'))\n",
      "jetpuppi_mass        | float[]                  | AsJagged(AsDtype('>f4'))\n",
      "jetpuppi_idpass      | uint32_t[]               | AsJagged(AsDtype('>u4'))\n",
      "jetpuppi_DeepJET     | float[]                  | AsJagged(AsDtype('>f4'))\n",
      "jetpuppi_btag        | uint32_t[]               | AsJagged(AsDtype('>u4'))\n",
      "jetchs_size          | int32_t                  | AsDtype('>i4')\n",
      "jetchs_pt            | float[]                  | AsJagged(AsDtype('>f4'))\n",
      "jetchs_eta           | float[]                  | AsJagged(AsDtype('>f4'))\n",
      "jetchs_phi           | float[]                  | AsJagged(AsDtype('>f4'))\n",
      "jetchs_mass          | float[]                  | AsJagged(AsDtype('>f4'))\n",
      "jetchs_idpass        | uint32_t[]               | AsJagged(AsDtype('>u4'))\n",
      "jetchs_DeepJET       | float[]                  | AsJagged(AsDtype('>f4'))\n",
      "jetchs_btag          | uint32_t[]               | AsJagged(AsDtype('>u4'))\n",
      "fatjet_size          | int32_t                  | AsDtype('>i4')\n",
      "fatjet_pt            | float[]                  | AsJagged(AsDtype('>f4'))\n",
      "fatjet_eta           | float[]                  | AsJagged(AsDtype('>f4'))\n",
      "fatjet_phi           | float[]                  | AsJagged(AsDtype('>f4'))\n",
      "fatjet_mass          | float[]                  | AsJagged(AsDtype('>f4'))\n",
      "fatjet_tau1          | float[]                  | AsJagged(AsDtype('>f4'))\n",
      "fatjet_tau2          | float[]                  | AsJagged(AsDtype('>f4'))\n",
      "fatjet_tau3          | float[]                  | AsJagged(AsDtype('>f4'))\n",
      "fatjet_tau4          | float[]                  | AsJagged(AsDtype('>f4'))\n",
      "fatjet_msoftdrop     | float[]                  | AsJagged(AsDtype('>f4'))\n",
      "fatjet_particleNe... | float[]                  | AsJagged(AsDtype('>f4'))\n",
      "fatjet_particleNe... | float[]                  | AsJagged(AsDtype('>f4'))\n",
      "fatjet_particleNe... | float[]                  | AsJagged(AsDtype('>f4'))\n",
      "metpuppi_size        | int32_t                  | AsDtype('>i4')\n",
      "metpuppi_pt          | float[]                  | AsJagged(AsDtype('>f4'))\n",
      "metpuppi_phi         | float[]                  | AsJagged(AsDtype('>f4'))\n",
      "metpf_size           | int32_t                  | AsDtype('>i4')\n",
      "metpf_pt             | float[]                  | AsJagged(AsDtype('>f4'))\n",
      "metpf_phi            | float[]                  | AsJagged(AsDtype('>f4'))\n"
     ]
    }
   ],
   "source": [
    "#load the file\n",
    "tree = uproot.open(filename+\":myana/mytree\")\n",
    "tree.show()"
   ]
  },
  {
   "cell_type": "code",
   "execution_count": null,
   "id": "literary-grant",
   "metadata": {},
   "outputs": [],
   "source": []
  },
  {
   "cell_type": "code",
   "execution_count": 4,
   "id": "devoted-associate",
   "metadata": {},
   "outputs": [],
   "source": [
    "event_info = tree.arrays(['genvtx_t0']) \n",
    "muons = tree.arrays(['pfcand_pt','pfcand_eta','pfcand_phi','pfcand_mass','pfcand_t','pfcand_vz'],'abs(pfcand_pid)==13') \n",
    "protons = tree.arrays(['genproton_xi','genproton_pz','genproton_vz','genproton_ispu']) \n",
    "vertices = tree.arrays(['vtx4D_t','vtx4D_z','vtx4D_pt2']) "
   ]
  },
  {
   "cell_type": "code",
   "execution_count": 5,
   "id": "czech-contributor",
   "metadata": {},
   "outputs": [
    {
     "name": "stderr",
     "output_type": "stream",
     "text": [
      "100%|██████████| 100/100 [00:00<00:00, 112.79it/s]\n",
      "100%|██████████| 64/64 [00:00<00:00, 73.49it/s]\n"
     ]
    },
    {
     "name": "stdout",
     "output_type": "stream",
     "text": [
      "64\n",
      "64\n"
     ]
    }
   ],
   "source": [
    "#dataset for mpp vs mll for pile-up and signal pairs.\n",
    "import awkward as ak\n",
    "import math as m\n",
    "N = len(muons) # number of events\n",
    "#define data array\n",
    "data={}\n",
    "for i in ['b','s']:\n",
    "    for k in ['pt','eta','phi','m','t','vz']:\n",
    "        data[i+'_mu1_'+k]=[]\n",
    "        data[i+'_mu2_'+k]=[]\n",
    "    for k in ['vz','xi']:\n",
    "        data[i+'_pr1_'+k]=[]\n",
    "        data[i+'_pr2_'+k]=[]\n",
    "    for k in ['pt2','t','z']:\n",
    "        data[i+'_pr_vtx_'+k]=[]\n",
    "# add event kinematics\n",
    "    data[i+'_mll']=[]\n",
    "    data[i+'_yll']=[]\n",
    "    data[i+'_mpp']=[]\n",
    "    data[i+'_ypp']=[]\n",
    "    data[i+'_evt_t0']=[]\n",
    "#loop over all events for the signal\n",
    "for i in tqdm(range(N)): \n",
    "    #find index of two highest pT muons with pT > 25 GeV\n",
    "    mu=muons[i]\n",
    "    mu1_idx=-1; mu2_idx=-1; \n",
    "    for i_mu, pt in enumerate(mu.pfcand_pt):\n",
    "        if pt<25: continue\n",
    "        if mu1_idx<0 or pt>mu.pfcand_pt[mu1_idx]:\n",
    "            mu2_idx=mu1_idx\n",
    "            mu1_idx=i_mu\n",
    "        elif mu2_idx<0 or pt>mu.pfcand_pt[mu2_idx]:\n",
    "            mu2_idx=i_mu\n",
    "    #if found less than 2 muons, skip the event:\n",
    "    if mu1_idx<0 or mu2_idx<0: continue\n",
    "    # find two signal protons:\n",
    "    pr=protons[i]\n",
    "    pr1_idx=-1; pr2_idx=-1\n",
    "    #pick up 2 signal protons\n",
    "    pr1_idx=np.where(ak.to_numpy( (pr.genproton_ispu==0) & (pr.genproton_pz>0) & (pr.genproton_pz< 6999) ))[0][0]\n",
    "    pr2_idx=np.where(ak.to_numpy( (pr.genproton_ispu==0) & (pr.genproton_pz<0) & (pr.genproton_pz>-6999) ))[0][0]\n",
    "    #skip events if signal protons are missing\n",
    "    if pr1_idx<0 or pr2_idx<0: continue\n",
    "    #store muons\n",
    "    mu1=ROOT.Math.PtEtaPhiMVector(mu.pfcand_pt[mu1_idx],\n",
    "                                  mu.pfcand_eta[mu1_idx],\n",
    "                                  mu.pfcand_phi[mu1_idx],\n",
    "                                  mu.pfcand_mass[mu1_idx])\n",
    "    mu2=ROOT.Math.PtEtaPhiMVector(mu.pfcand_pt[mu2_idx],\n",
    "                                  mu.pfcand_eta[mu2_idx],\n",
    "                                  mu.pfcand_phi[mu2_idx],\n",
    "                                  mu.pfcand_mass[mu2_idx])   \n",
    "    data['s_mu1_pt'].append(mu1.Pt())\n",
    "    data['s_mu1_eta'].append(mu1.Eta())\n",
    "    data['s_mu1_phi'].append(mu1.Phi())\n",
    "    data['s_mu1_m'].append(mu1.M())\n",
    "    data['s_mu1_t'].append(mu.pfcand_t[mu1_idx])\n",
    "    data['s_mu1_vz'].append(mu.pfcand_vz[mu1_idx])\n",
    "    data['s_mu2_pt'].append(mu2.Pt())\n",
    "    data['s_mu2_eta'].append(mu2.Eta())\n",
    "    data['s_mu2_phi'].append(mu2.Phi())\n",
    "    data['s_mu2_m'].append(mu2.M())\n",
    "    data['s_mu2_t'].append(mu.pfcand_t[mu2_idx])\n",
    "    data['s_mu2_vz'].append(mu.pfcand_vz[mu2_idx])\n",
    "    #calculate invariant mass from two muons:\n",
    "    data['s_mll'].append((mu1+mu2).M())\n",
    "    data['s_yll'].append((mu1+mu2).Eta())\n",
    "    #add proton information\n",
    "    xi1=pr.genproton_xi[pr1_idx]\n",
    "    xi2=pr.genproton_xi[pr2_idx]\n",
    "    data['s_pr1_xi'].append(xi1)\n",
    "    data['s_pr1_vz'].append(pr.genproton_vz[pr1_idx])\n",
    "    data['s_pr2_xi'].append(xi2)\n",
    "    data['s_pr2_vz'].append(pr.genproton_vz[pr2_idx])\n",
    "    #calculate invariant mass from two muons:\n",
    "    data['s_mpp'].append(13000.*np.sqrt(xi1*xi2))\n",
    "    data['s_ypp'].append((-1/2)*np.log(xi1/xi2))\n",
    "    #add primary vertex info\n",
    "    vx=vertices[i]\n",
    "    data['s_pr_vtx_pt2'].append(vx.vtx4D_pt2[0])\n",
    "    data['s_pr_vtx_t'].append(vx.vtx4D_t[0])\n",
    "    data['s_pr_vtx_z'].append(vx.vtx4D_z[0])\n",
    "    #add event info variables:\n",
    "    ev=event_info[i]\n",
    "    data['s_evt_t0'].append(ev.genvtx_t0)\n",
    "#loop over all events for the background\n",
    "n = len(data['s_pr1_xi'])\n",
    "for i in tqdm(range(n)): \n",
    "    #find index of two highest pT muons\n",
    "    mu=muons[i]\n",
    "    mu1_idx=-1; mu2_idx=-1; \n",
    "    for i_mu, pt in enumerate(mu.pfcand_pt):\n",
    "        #if pt<25: continue\n",
    "        if mu1_idx<0 or pt>mu.pfcand_pt[mu1_idx]:\n",
    "            mu2_idx=mu1_idx\n",
    "            mu1_idx=i_mu\n",
    "        elif mu2_idx<0 or pt>mu.pfcand_pt[mu2_idx]:\n",
    "            mu2_idx=i_mu\n",
    "    #if found less than 2 muons, skip the event:\n",
    "    if mu1_idx<0 or mu2_idx<0: continue\n",
    "    # find two signal protons:\n",
    "    pr=protons[i]\n",
    "    pr1_idx=-1; pr2_idx=-1\n",
    "    #pick 2 random pileup protons\n",
    "    #get all indices of positive and negative protons:\n",
    "    b_proton_pos_idx=np.where(ak.to_numpy((pr.genproton_ispu) & (pr.genproton_pz<0) & (pr.genproton_pz>-6999) ))[0]\n",
    "    b_proton_neg_idx=np.where(ak.to_numpy((pr.genproton_ispu) & (pr.genproton_pz>0) & (pr.genproton_pz< 6999) ))[0]\n",
    "    #create list of all possible pair combinations betwen list 1 and list 2:\n",
    "    b_proton_pairs_idx=np.array(np.meshgrid(b_proton_pos_idx,b_proton_neg_idx)).T.reshape(-1,2)\n",
    "    #pick up a random pair:\n",
    "    b_pr1_idx, b_pr2_idx  = b_proton_pairs_idx[np.random.randint(b_proton_pairs_idx.shape[0], size=1)][0]\n",
    "    mu1=ROOT.Math.PtEtaPhiMVector(mu.pfcand_pt[mu1_idx],\n",
    "                                  mu.pfcand_eta[mu1_idx],\n",
    "                                  mu.pfcand_phi[mu1_idx],\n",
    "                                  mu.pfcand_mass[mu1_idx])\n",
    "    mu2=ROOT.Math.PtEtaPhiMVector(mu.pfcand_pt[mu2_idx],\n",
    "                                  mu.pfcand_eta[mu2_idx],\n",
    "                                  mu.pfcand_phi[mu2_idx],\n",
    "                                  mu.pfcand_mass[mu2_idx])   \n",
    "    data['b_mu1_pt'].append(mu1.Pt())\n",
    "    data['b_mu1_eta'].append(mu1.Eta())\n",
    "    data['b_mu1_phi'].append(mu1.Phi())\n",
    "    data['b_mu1_m'].append(mu1.M())\n",
    "    data['b_mu1_t'].append(mu.pfcand_t[mu1_idx])\n",
    "    data['b_mu1_vz'].append(mu.pfcand_vz[mu1_idx])\n",
    "    data['b_mu2_pt'].append(mu2.Pt())\n",
    "    data['b_mu2_eta'].append(mu2.Eta())\n",
    "    data['b_mu2_phi'].append(mu2.Phi())\n",
    "    data['b_mu2_m'].append(mu2.M())\n",
    "    data['b_mu2_t'].append(mu.pfcand_t[mu2_idx])\n",
    "    data['b_mu2_vz'].append(mu.pfcand_vz[mu2_idx])\n",
    "    #calculate invariant mass from two muons:\n",
    "    data['b_mll'].append((mu1+mu2).M())\n",
    "    data['b_yll'].append((mu1+mu2).Eta())\n",
    "    #add proton information\n",
    "    xi1=pr.genproton_xi[pr1_idx]\n",
    "    xi2=pr.genproton_xi[pr2_idx]\n",
    "    data['b_pr1_xi'].append(xi1)\n",
    "    data['b_pr1_vz'].append(pr.genproton_vz[pr1_idx])\n",
    "    data['b_pr2_xi'].append(xi2)\n",
    "    data['b_pr2_vz'].append(pr.genproton_vz[pr2_idx])\n",
    "    #calculate invariant mass from two muons:\n",
    "    #print(xi1*xi2)\n",
    "    #otherwise nan in sqrt\n",
    "    #if ((xi1*xi2)<1e-11): continue\n",
    "    data['b_mpp'].append(13000.*np.sqrt(xi1*xi2))\n",
    "    data['b_ypp'].append((-1/2)*np.log(xi1/xi2))\n",
    "    #add primary vertex info\n",
    "    vx=vertices[i]\n",
    "    data['b_pr_vtx_pt2'].append(vx.vtx4D_pt2[0])\n",
    "    data['b_pr_vtx_t'].append(vx.vtx4D_t[0])\n",
    "    data['b_pr_vtx_z'].append(vx.vtx4D_z[0])\n",
    "    #add event info variables:\n",
    "    ev=event_info[i]\n",
    "    data['b_evt_t0'].append(ev.genvtx_t0)\n",
    "print(len(data['s_mu1_t']))\n",
    "print(len(data['b_mpp']))"
   ]
  },
  {
   "cell_type": "code",
   "execution_count": 6,
   "id": "voluntary-paragraph",
   "metadata": {},
   "outputs": [],
   "source": [
    "analysis = pd.DataFrame(data=data)\n"
   ]
  },
  {
   "cell_type": "code",
   "execution_count": 7,
   "id": "ruled-mortality",
   "metadata": {},
   "outputs": [
    {
     "name": "stdout",
     "output_type": "stream",
     "text": [
      "64\n"
     ]
    },
    {
     "data": {
      "text/plain": [
       "<matplotlib.legend.Legend at 0x7f8f987e4af0>"
      ]
     },
     "execution_count": 7,
     "metadata": {},
     "output_type": "execute_result"
    },
    {
     "data": {
      "image/png": "[encoded data removed]",
      "text/plain": [
       "<Figure size 432x288 with 1 Axes>"
      ]
     },
     "metadata": {
      "needs_background": "light"
     },
     "output_type": "display_data"
    }
   ],
   "source": [
    "#You can plot mpp/mll-1 distribution, fit a gaussian and define a cut to be within the 2 sigma: |mpp-mll| < 2*sigma*mll\n",
    "#print(analysis['s_mpp'].values)\n",
    "#print(analysis['s_mll'].values)\n",
    "data = (analysis['s_mpp'].values/analysis['s_mll'].values)-1\n",
    "print(len(data))\n",
    "bins = np.linspace(-0.15,0.15,32)\n",
    "f, ax = plt.subplots()\n",
    "plt.hist(data,bins, histtype='step')\n",
    "\n",
    "#fit to gaussian (to avoid bias from outliers restrict the fitted area):  = analysis['s_mpp']-analysis['s_mll'] <\n",
    "(mu, sigma_m) = stats.norm.fit(data)\n",
    "x=bins\n",
    "y=stats.norm.pdf(x, mu, sigma_m)\n",
    "ax.plot(x, y, 'r--', linewidth=2,label='$\\sigma_{m}$ = %2.2f percent'%sigma_m)\n",
    "#print(2*sigma*analysis['s_mll'])\n",
    "\n",
    "hep.cms.label(llabel=\"Preliminary\", rlabel=\"Summer 2021\", ax=ax)\n",
    "ax.set(xlabel='percent', ylabel='number of entries')\n",
    "\n",
    "ax.legend()\n",
    "#plt.savefig('Week4/fit_mass_ratio.png')"
   ]
  },
  {
   "cell_type": "code",
   "execution_count": 8,
   "id": "naval-direction",
   "metadata": {},
   "outputs": [
    {
     "data": {
      "text/plain": [
       "<matplotlib.legend.Legend at 0x7f8f84fe4ca0>"
      ]
     },
     "execution_count": 8,
     "metadata": {},
     "output_type": "execute_result"
    },
    {
     "data": {
      "image/png": "[encoded data removed]",
      "text/plain": [
       "<Figure size 432x288 with 1 Axes>"
      ]
     },
     "metadata": {
      "needs_background": "light"
     },
     "output_type": "display_data"
    }
   ],
   "source": [
    "data = (analysis['s_ypp'].values/analysis['s_yll'].values)-1\n",
    "\n",
    "#print(data)\n",
    "bins = np.linspace(-2,0,32)\n",
    "f, ax = plt.subplots()\n",
    "plt.hist(data, histtype='step')\n",
    "\n",
    "#fit to gaussian (to avoid bias from outliers restrict the fitted area):  = analysis['s_mpp']-analysis['s_mll'] <\n",
    "(mu, sigma_y) = stats.norm.fit(data)\n",
    "x=bins\n",
    "y=stats.norm.pdf(x, mu, sigma_y)\n",
    "ax.plot(x, y, 'r--', linewidth=2,label='$\\sigma_{\\eta}$ = %2.2f percent'%sigma_y)\n",
    "#print(2*sigma*analysis['s_mll'])\n",
    "\n",
    "hep.cms.label(llabel=\"Preliminary\", rlabel=\"Summer 2021\", ax=ax)\n",
    "ax.set(xlabel='percent', ylabel='number of entries')\n",
    "\n",
    "ax.legend()\n",
    "#plt.savefig('Week4/fit_eta_ratio.png')"
   ]
  },
  {
   "cell_type": "code",
   "execution_count": 9,
   "id": "manual-thermal",
   "metadata": {},
   "outputs": [
    {
     "name": "stdout",
     "output_type": "stream",
     "text": [
      "name                 | typename                 | interpretation                \n",
      "---------------------+--------------------------+-------------------------------\n",
      "evt_size             | int32_t                  | AsDtype('>i4')\n",
      "vtx_size             | int32_t                  | AsDtype('>i4')\n",
      "vtx_x                | float[]                  | AsJagged(AsDtype('>f4'))\n",
      "vtx_y                | float[]                  | AsJagged(AsDtype('>f4'))\n",
      "vtx_z                | float[]                  | AsJagged(AsDtype('>f4'))\n",
      "vtx_pt2              | float[]                  | AsJagged(AsDtype('>f4'))\n",
      "vtx4D_size           | int32_t                  | AsDtype('>i4')\n",
      "vtx4D_x              | float[]                  | AsJagged(AsDtype('>f4'))\n",
      "vtx4D_y              | float[]                  | AsJagged(AsDtype('>f4'))\n",
      "vtx4D_z              | float[]                  | AsJagged(AsDtype('>f4'))\n",
      "vtx4D_t              | float[]                  | AsJagged(AsDtype('>f4'))\n",
      "vtx4D_terr           | float[]                  | AsJagged(AsDtype('>f4'))\n",
      "vtx4D_pt2            | float[]                  | AsJagged(AsDtype('>f4'))\n",
      "pfcand_size          | int32_t                  | AsDtype('>i4')\n",
      "pfcand_pid           | int32_t[]                | AsJagged(AsDtype('>i4'))\n",
      "pfcand_pt            | float[]                  | AsJagged(AsDtype('>f4'))\n",
      "pfcand_eta           | float[]                  | AsJagged(AsDtype('>f4'))\n",
      "pfcand_phi           | float[]                  | AsJagged(AsDtype('>f4'))\n",
      "pfcand_mass          | float[]                  | AsJagged(AsDtype('>f4'))\n",
      "pfcand_t             | float[]                  | AsJagged(AsDtype('>f4'))\n",
      "pfcand_terr          | float[]                  | AsJagged(AsDtype('>f4'))\n",
      "pfcand_vz            | float[]                  | AsJagged(AsDtype('>f4'))\n",
      "npuVertices          | int32_t                  | AsDtype('>i4')\n",
      "trueInteractions     | float                    | AsDtype('>f4')\n",
      "genpart_size         | int32_t                  | AsDtype('>i4')\n",
      "genpart_pid          | int32_t[]                | AsJagged(AsDtype('>i4'))\n",
      "genpart_status       | int32_t[]                | AsJagged(AsDtype('>i4'))\n",
      "genpart_pt           | float[]                  | AsJagged(AsDtype('>f4'))\n",
      "genpart_eta          | float[]                  | AsJagged(AsDtype('>f4'))\n",
      "genpart_phi          | float[]                  | AsJagged(AsDtype('>f4'))\n",
      "genpart_mass         | float[]                  | AsJagged(AsDtype('>f4'))\n",
      "genpart_m1           | int32_t[]                | AsJagged(AsDtype('>i4'))\n",
      "genpart_m2           | int32_t[]                | AsJagged(AsDtype('>i4'))\n",
      "genpart_d1           | int32_t[]                | AsJagged(AsDtype('>i4'))\n",
      "genpart_d2           | int32_t[]                | AsJagged(AsDtype('>i4'))\n",
      "genjet_size          | int32_t                  | AsDtype('>i4')\n",
      "genjet_pt            | float[]                  | AsJagged(AsDtype('>f4'))\n",
      "genjet_eta           | float[]                  | AsJagged(AsDtype('>f4'))\n",
      "genjet_phi           | float[]                  | AsJagged(AsDtype('>f4'))\n",
      "genjet_mass          | float[]                  | AsJagged(AsDtype('>f4'))\n",
      "genmet_size          | int32_t                  | AsDtype('>i4')\n",
      "genmet_pt            | float[]                  | AsJagged(AsDtype('>f4'))\n",
      "genmet_phi           | float[]                  | AsJagged(AsDtype('>f4'))\n",
      "genproton_size       | int32_t                  | AsDtype('>i4')\n",
      "genproton_xi         | float[]                  | AsJagged(AsDtype('>f4'))\n",
      "genproton_pz         | float[]                  | AsJagged(AsDtype('>f4'))\n",
      "genproton_vz         | float[]                  | AsJagged(AsDtype('>f4'))\n",
      "genproton_ispu       | int32_t[]                | AsJagged(AsDtype('>i4'))\n",
      "genvtx_t0            | float                    | AsDtype('>f4')\n",
      "gamma_size           | int32_t                  | AsDtype('>i4')\n",
      "gamma_pt             | float[]                  | AsJagged(AsDtype('>f4'))\n",
      "gamma_eta            | float[]                  | AsJagged(AsDtype('>f4'))\n",
      "gamma_phi            | float[]                  | AsJagged(AsDtype('>f4'))\n",
      "gamma_mass           | float[]                  | AsJagged(AsDtype('>f4'))\n",
      "gamma_idvar          | float[]                  | AsJagged(AsDtype('>f4'))\n",
      "gamma_reliso         | float[]                  | AsJagged(AsDtype('>f4'))\n",
      "gamma_idpass         | uint32_t[]               | AsJagged(AsDtype('>u4'))\n",
      "gamma_isopass        | uint32_t[]               | AsJagged(AsDtype('>u4'))\n",
      "elec_size            | int32_t                  | AsDtype('>i4')\n",
      "elec_pt              | float[]                  | AsJagged(AsDtype('>f4'))\n",
      "elec_eta             | float[]                  | AsJagged(AsDtype('>f4'))\n",
      "elec_phi             | float[]                  | AsJagged(AsDtype('>f4'))\n",
      "elec_mass            | float[]                  | AsJagged(AsDtype('>f4'))\n",
      "elec_charge          | int32_t[]                | AsJagged(AsDtype('>i4'))\n",
      "elec_idvar           | float[]                  | AsJagged(AsDtype('>f4'))\n",
      "elec_reliso          | float[]                  | AsJagged(AsDtype('>f4'))\n",
      "elec_idpass          | uint32_t[]               | AsJagged(AsDtype('>u4'))\n",
      "elec_isopass         | uint32_t[]               | AsJagged(AsDtype('>u4'))\n",
      "muon_size            | int32_t                  | AsDtype('>i4')\n",
      "muon_pt              | float[]                  | AsJagged(AsDtype('>f4'))\n",
      "muon_eta             | float[]                  | AsJagged(AsDtype('>f4'))\n",
      "muon_phi             | float[]                  | AsJagged(AsDtype('>f4'))\n",
      "muon_mass            | float[]                  | AsJagged(AsDtype('>f4'))\n",
      "muon_charge          | int32_t[]                | AsJagged(AsDtype('>i4'))\n",
      "muon_idvar           | float[]                  | AsJagged(AsDtype('>f4'))\n",
      "muon_reliso          | float[]                  | AsJagged(AsDtype('>f4'))\n",
      "muon_idpass          | uint32_t[]               | AsJagged(AsDtype('>u4'))\n",
      "muon_isopass         | uint32_t[]               | AsJagged(AsDtype('>u4'))\n",
      "tau_size             | int32_t                  | AsDtype('>i4')\n",
      "tau_pt               | float[]                  | AsJagged(AsDtype('>f4'))\n",
      "tau_eta              | float[]                  | AsJagged(AsDtype('>f4'))\n",
      "tau_phi              | float[]                  | AsJagged(AsDtype('>f4'))\n",
      "tau_mass             | float[]                  | AsJagged(AsDtype('>f4'))\n",
      "tau_charge           | int32_t[]                | AsJagged(AsDtype('>i4'))\n",
      "tau_decaymode        | float[]                  | AsJagged(AsDtype('>f4'))\n",
      "tau_chargediso       | float[]                  | AsJagged(AsDtype('>f4'))\n",
      "tau_neutraliso       | float[]                  | AsJagged(AsDtype('>f4'))\n",
      "tau_combinediso      | float[]                  | AsJagged(AsDtype('>f4'))\n",
      "tau_isopass          | uint32_t[]               | AsJagged(AsDtype('>u4'))\n",
      "jetpuppi_size        | int32_t                  | AsDtype('>i4')\n",
      "jetpuppi_pt          | float[]                  | AsJagged(AsDtype('>f4'))\n",
      "jetpuppi_eta         | float[]                  | AsJagged(AsDtype('>f4'))\n",
      "jetpuppi_phi         | float[]                  | AsJagged(AsDtype('>f4'))\n",
      "jetpuppi_mass        | float[]                  | AsJagged(AsDtype('>f4'))\n",
      "jetpuppi_idpass      | uint32_t[]               | AsJagged(AsDtype('>u4'))\n",
      "jetpuppi_DeepJET     | float[]                  | AsJagged(AsDtype('>f4'))\n",
      "jetpuppi_btag        | uint32_t[]               | AsJagged(AsDtype('>u4'))\n",
      "jetchs_size          | int32_t                  | AsDtype('>i4')\n",
      "jetchs_pt            | float[]                  | AsJagged(AsDtype('>f4'))\n",
      "jetchs_eta           | float[]                  | AsJagged(AsDtype('>f4'))\n",
      "jetchs_phi           | float[]                  | AsJagged(AsDtype('>f4'))\n",
      "jetchs_mass          | float[]                  | AsJagged(AsDtype('>f4'))\n",
      "jetchs_idpass        | uint32_t[]               | AsJagged(AsDtype('>u4'))\n",
      "jetchs_DeepJET       | float[]                  | AsJagged(AsDtype('>f4'))\n",
      "jetchs_btag          | uint32_t[]               | AsJagged(AsDtype('>u4'))\n",
      "fatjet_size          | int32_t                  | AsDtype('>i4')\n",
      "fatjet_pt            | float[]                  | AsJagged(AsDtype('>f4'))\n",
      "fatjet_eta           | float[]                  | AsJagged(AsDtype('>f4'))\n",
      "fatjet_phi           | float[]                  | AsJagged(AsDtype('>f4'))\n",
      "fatjet_mass          | float[]                  | AsJagged(AsDtype('>f4'))\n",
      "fatjet_tau1          | float[]                  | AsJagged(AsDtype('>f4'))\n",
      "fatjet_tau2          | float[]                  | AsJagged(AsDtype('>f4'))\n",
      "fatjet_tau3          | float[]                  | AsJagged(AsDtype('>f4'))\n",
      "fatjet_tau4          | float[]                  | AsJagged(AsDtype('>f4'))\n",
      "fatjet_msoftdrop     | float[]                  | AsJagged(AsDtype('>f4'))\n",
      "fatjet_particleNe... | float[]                  | AsJagged(AsDtype('>f4'))\n",
      "fatjet_particleNe... | float[]                  | AsJagged(AsDtype('>f4'))\n",
      "fatjet_particleNe... | float[]                  | AsJagged(AsDtype('>f4'))\n",
      "metpuppi_size        | int32_t                  | AsDtype('>i4')\n",
      "metpuppi_pt          | float[]                  | AsJagged(AsDtype('>f4'))\n",
      "metpuppi_phi         | float[]                  | AsJagged(AsDtype('>f4'))\n",
      "metpf_size           | int32_t                  | AsDtype('>i4')\n",
      "metpf_pt             | float[]                  | AsJagged(AsDtype('>f4'))\n",
      "metpf_phi            | float[]                  | AsJagged(AsDtype('>f4'))\n"
     ]
    }
   ],
   "source": [
    "PATH='/eos/cms/store/user/jjhollar/CERNSummerStudentProject2021/'\n",
    "filename=PATH+'DYMuMu_PU200_NTUPLE_1_version3.root'\n",
    "bg_tree = uproot.open(filename+\":myana/mytree\")\n",
    "bg_tree.show()"
   ]
  },
  {
   "cell_type": "code",
   "execution_count": 10,
   "id": "empirical-edinburgh",
   "metadata": {},
   "outputs": [],
   "source": [
    "#here is an example, If you look at the size for the pf_cand array (in MB):\n",
    "#bg_muons =[]\n",
    "#for batch, report in bg_tree.iterate(['pfcand_pt','pfcand_eta','pfcand_phi','pfcand_mass','pfcand_t','pfcand_vz','pfcand_pid'], step_size=1000, report=True):\n",
    "    #print(report)\n",
    "#    bg_muons.append(batch )\n",
    "#bg_muons=ak.concatenate(bg_muons)\n",
    "#print('array size = '+str(bg_muons.nbytes/1e6))"
   ]
  },
  {
   "cell_type": "code",
   "execution_count": 10,
   "id": "academic-briefs",
   "metadata": {},
   "outputs": [],
   "source": [
    "#Compressing the muon data\n",
    "bg_muons =[]\n",
    "for batch, report in bg_tree.iterate(['pfcand_pt','pfcand_eta','pfcand_phi','pfcand_mass','pfcand_t','pfcand_vz','pfcand_pid'], step_size=1000, report=True):\n",
    "    #print(report)\n",
    "    bg_muons.append(batch[(abs(batch.pfcand_pid)==13) & (batch.pfcand_pt>25)] )\n",
    "bg_muons=ak.concatenate(bg_muons)"
   ]
  },
  {
   "cell_type": "code",
   "execution_count": 11,
   "id": "prescribed-victoria",
   "metadata": {},
   "outputs": [],
   "source": [
    "bg_protons = bg_tree.arrays(['genproton_xi','genproton_pz','genproton_vz','genproton_ispu'],'(abs(genproton_pz)<6999) & (abs(genproton_pz)>5000)')\n",
    "bg_event_info = bg_tree.arrays(['genvtx_t0']) \n",
    "bg_vertices = bg_tree.arrays(['vtx4D_t','vtx4D_z','vtx4D_pt2'])"
   ]
  },
  {
   "cell_type": "code",
   "execution_count": null,
   "id": "superb-darwin",
   "metadata": {},
   "outputs": [],
   "source": [
    "#All for the background sample - (old version)\n",
    "\n",
    "#-----Skip this cell !\n",
    "\n",
    "N = len(bg_muons) # number of events\n",
    "#define data array\n",
    "data={}\n",
    "for k in ['pt','eta','phi','m','t','vz']:\n",
    "    data['mu1_'+k]=[]\n",
    "    data['mu2_'+k]=[]\n",
    "for k in ['vz','xi']:\n",
    "    data['pr1_'+k]=[]\n",
    "    data['pr2_'+k]=[]\n",
    "for k in ['pt2','t','z']:\n",
    "    data['pr_vtx_'+k]=[]\n",
    "# add event kinematics\n",
    "data['mll']=[]\n",
    "data['mpp']=[]\n",
    "data['evt_t0']=[]\n",
    "data['ypp']=[]\n",
    "data['yll']=[]\n",
    "#loop over all events\n",
    "for i in tqdm(range(N)): \n",
    "    #find index of two highest pT muons with pT > 25 GeV\n",
    "    mu=bg_muons[i]\n",
    "    mu1_idx=-1; mu2_idx=-1; \n",
    "    for i_mu, pt in enumerate(mu.pfcand_pt):\n",
    "        if pt<25: continue\n",
    "        if mu1_idx<0 or pt>mu.pfcand_pt[mu1_idx]:\n",
    "            mu2_idx=mu1_idx\n",
    "            mu1_idx=i_mu\n",
    "        elif mu2_idx<0 or pt>mu.pfcand_pt[mu2_idx]:\n",
    "            mu2_idx=i_mu\n",
    "    #if found less than 2 muons, skip the event:\n",
    "    if mu1_idx<0 or mu2_idx<0: continue\n",
    "    # find two signal protons:\n",
    "    pr=bg_protons[i]\n",
    "    pr1_idx=-1; pr2_idx=-1\n",
    "    for i_pr, ispu in enumerate(pr.genproton_ispu):\n",
    "        #if ispu: continue\n",
    "        if pr.genproton_pz[i_pr]>0: pr1_idx=i_pr\n",
    "        else: pr2_idx=i_pr\n",
    "    #skip events if signal protons are missing\n",
    "    if pr1_idx<0 or pr2_idx<0: continue\n",
    "    #store muons\n",
    "    #print(1)\n",
    "    mu1=ROOT.Math.PtEtaPhiMVector(mu.pfcand_pt[mu1_idx],\n",
    "                                  mu.pfcand_eta[mu1_idx],\n",
    "                                  mu.pfcand_phi[mu1_idx],\n",
    "                                  mu.pfcand_mass[mu1_idx])\n",
    "    mu2=ROOT.Math.PtEtaPhiMVector(mu.pfcand_pt[mu2_idx],\n",
    "                                  mu.pfcand_eta[mu2_idx],\n",
    "                                  mu.pfcand_phi[mu2_idx],\n",
    "                                  mu.pfcand_mass[mu2_idx])   \n",
    "    data['mu1_pt'].append(mu1.Pt())\n",
    "    data['mu1_eta'].append(mu1.Eta())\n",
    "    data['mu1_phi'].append(mu1.Phi())\n",
    "    data['mu1_m'].append(mu1.M())\n",
    "    data['mu1_t'].append(mu.pfcand_t[mu1_idx])\n",
    "    data['mu1_vz'].append(mu.pfcand_vz[mu1_idx])\n",
    "    data['mu2_pt'].append(mu2.Pt())\n",
    "    data['mu2_eta'].append(mu2.Eta())\n",
    "    data['mu2_phi'].append(mu2.Phi())\n",
    "    data['mu2_m'].append(mu2.M())\n",
    "    data['mu2_t'].append(mu.pfcand_t[mu2_idx])\n",
    "    data['mu2_vz'].append(mu.pfcand_vz[mu2_idx])\n",
    "    #calculate invariant mass from two muons:\n",
    "    data['mll'].append((mu1+mu2).M())\n",
    "    data['yll'].append((mu1+mu2).Eta())\n",
    "    #add proton information\n",
    "    xi1=pr.genproton_xi[pr1_idx]\n",
    "    xi2=pr.genproton_xi[pr2_idx]\n",
    "    data['pr1_xi'].append(xi1)\n",
    "    data['pr1_vz'].append(pr.genproton_vz[pr1_idx])\n",
    "    data['pr2_xi'].append(xi2)\n",
    "    data['pr2_vz'].append(pr.genproton_vz[pr2_idx])\n",
    "    #calculate invariant mass from two muons:\n",
    "    #print(xi1*xi2)\n",
    "    data['mpp'].append(13000.*np.sqrt(xi1*xi2))\n",
    "    data['ypp'].append((-1/2)*np.log(xi1/xi2))\n",
    "    #add primary vertex info\n",
    "    vx=bg_vertices[i]\n",
    "    data['pr_vtx_pt2'].append(vx.vtx4D_pt2[0])\n",
    "    data['pr_vtx_t'].append(vx.vtx4D_t[0])\n",
    "    data['pr_vtx_z'].append(vx.vtx4D_z[0])\n",
    "    #add event info variables:\n",
    "    ev=bg_event_info[i]\n",
    "    data['evt_t0'].append(ev.genvtx_t0)\n"
   ]
  },
  {
   "cell_type": "code",
   "execution_count": 12,
   "id": "altered-scratch",
   "metadata": {},
   "outputs": [
    {
     "name": "stderr",
     "output_type": "stream",
     "text": [
      "100%|██████████| 15296/15296 [01:12<00:00, 210.85it/s]\n"
     ]
    }
   ],
   "source": [
    "#All for the background sample - new\n",
    "\n",
    "# -----This is not perfect, but better ------\n",
    "\n",
    "N = len(bg_muons) # number of events\n",
    "#define data array\n",
    "data={}\n",
    "for k in ['pt','eta','phi','m','t','vz']:\n",
    "    data['mu1_'+k]=[]\n",
    "    data['mu2_'+k]=[]\n",
    "for k in ['vz','xi']:\n",
    "    data['pr1_'+k]=[]\n",
    "    data['pr2_'+k]=[]\n",
    "for k in ['pt2','t','z']:\n",
    "    data['pr_vtx_'+k]=[]\n",
    "# add event kinematics\n",
    "data['mll']=[]\n",
    "data['mpp']=[]\n",
    "data['evt_t0']=[]\n",
    "data['ypp']=[]\n",
    "data['yll']=[]\n",
    "#loop over all events\n",
    "for i in tqdm(range(N)): \n",
    "    #find index of two highest pT muons with pT > 25 GeV\n",
    "    mu=bg_muons[i]\n",
    "    mu1_idx=-1; mu2_idx=-1; \n",
    "    for i_mu, pt in enumerate(mu.pfcand_pt):\n",
    "        if pt<25: continue\n",
    "        if mu1_idx<0 or pt>mu.pfcand_pt[mu1_idx]:\n",
    "            mu2_idx=mu1_idx\n",
    "            mu1_idx=i_mu\n",
    "        elif mu2_idx<0 or pt>mu.pfcand_pt[mu2_idx]:\n",
    "            mu2_idx=i_mu\n",
    "    #if found less than 2 muons, skip the event:\n",
    "    if mu1_idx<0 or mu2_idx<0: continue\n",
    "    #store muons:\n",
    "    mu1=ROOT.Math.PtEtaPhiMVector(mu.pfcand_pt[mu1_idx],\n",
    "                                  mu.pfcand_eta[mu1_idx],\n",
    "                                  mu.pfcand_phi[mu1_idx],\n",
    "                                  mu.pfcand_mass[mu1_idx])\n",
    "    mu2=ROOT.Math.PtEtaPhiMVector(mu.pfcand_pt[mu2_idx],\n",
    "                                  mu.pfcand_eta[mu2_idx],\n",
    "                                  mu.pfcand_phi[mu2_idx],\n",
    "                                  mu.pfcand_mass[mu2_idx])   \n",
    "    data['mu1_pt'].append(mu1.Pt())\n",
    "    data['mu1_eta'].append(mu1.Eta())\n",
    "    data['mu1_phi'].append(mu1.Phi())\n",
    "    data['mu1_m'].append(mu1.M())\n",
    "    data['mu1_t'].append(mu.pfcand_t[mu1_idx])\n",
    "    data['mu1_vz'].append(mu.pfcand_vz[mu1_idx])\n",
    "    data['mu2_pt'].append(mu2.Pt())\n",
    "    data['mu2_eta'].append(mu2.Eta())\n",
    "    data['mu2_phi'].append(mu2.Phi())\n",
    "    data['mu2_m'].append(mu2.M())\n",
    "    data['mu2_t'].append(mu.pfcand_t[mu2_idx])\n",
    "    data['mu2_vz'].append(mu.pfcand_vz[mu2_idx])\n",
    "    #calculate invariant mass from two muons:\n",
    "    data['mll'].append((mu1+mu2).M())\n",
    "    data['yll'].append((mu1+mu2).Eta())\n",
    "    \n",
    "    # find 2 protons where mpp is closest to mll\n",
    "    pr=bg_protons[i]\n",
    "    b_pr1_idx=-1; b_pr2_idx=-1\n",
    "    #calculate minimum distance per muon mass entrie\n",
    "    min_diff = min(abs(((mu1+mu2).M() - 13000.*np.sqrt(pr.genproton_xi*pr.genproton_xi))))\n",
    "    #print(min_diff)\n",
    "    \n",
    "    #pickup protons in same +-direction with appropriate momentum loss cut\n",
    "    b_proton_pos_idx=np.where(ak.to_numpy(pr.genproton_pz>0 & (abs(13000*pr.genproton_xi) <= abs(min_diff - (mu1+mu2).M()) ) ))[0]\n",
    "    b_proton_neg_idx=np.where(ak.to_numpy(pr.genproton_pz<0 & (abs(13000*pr.genproton_xi) <= abs(min_diff - (mu1+mu2).M() )) ))[0]\n",
    "    #print(b_proton_pos_idx)\n",
    "    #print(b_proton_neg_idx)\n",
    "    \n",
    "    #create list of all possible pair combinations betwen list 1 and list 2:\n",
    "    b_proton_pairs_idx=np.array(np.meshgrid(b_proton_pos_idx,b_proton_neg_idx)).T.reshape(-1,2)\n",
    "    #pick up 2 random from the limited indices\n",
    "    b_pr1_idx, b_pr2_idx  = b_proton_pairs_idx[np.random.randint(b_proton_pairs_idx.shape[0], size=1)][0]\n",
    "    \n",
    "    #store data and calculate variables \n",
    "    xi1=pr.genproton_xi[b_pr1_idx]\n",
    "    xi2=pr.genproton_xi[b_pr2_idx]\n",
    "    #print(len(xi1))\n",
    "    #print(len(xi2))\n",
    "    data['pr1_xi'].append(xi1)\n",
    "    data['pr1_vz'].append(pr.genproton_vz[b_pr1_idx])\n",
    "    data['pr2_xi'].append(xi2)\n",
    "    data['pr2_vz'].append(pr.genproton_vz[b_pr2_idx])\n",
    "    #calculate invariant mass from two muons:\n",
    "    #print(xi1*xi2)\n",
    "    data['mpp'].append(13000.*np.sqrt(xi1*xi2))\n",
    "    data['ypp'].append((-1/2)*np.log(xi1/xi2))\n",
    "    #add primary vertex info\n",
    "    vx=bg_vertices[i]\n",
    "    data['pr_vtx_pt2'].append(vx.vtx4D_pt2[0])\n",
    "    data['pr_vtx_t'].append(vx.vtx4D_t[0])\n",
    "    data['pr_vtx_z'].append(vx.vtx4D_z[0])\n",
    "    #add event info variables:\n",
    "    ev=bg_event_info[i]\n",
    "    data['evt_t0'].append(ev.genvtx_t0)\n"
   ]
  },
  {
   "cell_type": "code",
   "execution_count": 13,
   "id": "mineral-sydney",
   "metadata": {},
   "outputs": [],
   "source": [
    "bg_anal = pd.DataFrame(data=data)"
   ]
  },
  {
   "cell_type": "code",
   "execution_count": 14,
   "id": "southeast-pharmacology",
   "metadata": {},
   "outputs": [
    {
     "name": "stdout",
     "output_type": "stream",
     "text": [
      "15296\n"
     ]
    },
    {
     "data": {
      "text/plain": [
       "[Text(1, 26.0, 'Number of muons in event'), Text(64.0, 1, 'number of entries')]"
      ]
     },
     "execution_count": 14,
     "metadata": {},
     "output_type": "execute_result"
    },
    {
     "data": {
      "image/png": "[encoded data removed]",
      "text/plain": [
       "<Figure size 720x360 with 1 Axes>"
      ]
     },
     "metadata": {
      "needs_background": "light"
     },
     "output_type": "display_data"
    }
   ],
   "source": [
    "\n",
    "\n",
    "N = len(bg_muons)\n",
    "print(N)\n",
    "N_muons = []\n",
    "for i in range(N):\n",
    "    N_muons.append(len(bg_muons.pfcand_pt[i]))\n",
    "    \n",
    "#lets draw hisgorgam of number of muons:\n",
    "f, ax = plt.subplots(figsize=(10,5))\n",
    "plt.hist(N_muons, bins=np.linspace(0,3.5,40),label='Background muons')\n",
    "hep.cms.label(llabel=\"Preliminary\", rlabel=\"Summer 2021\", ax=ax)\n",
    "ax.legend(); \n",
    "ax.set(xlabel='Number of muons in event', ylabel='number of entries')\n",
    "#plt.savefig('AnalyseW2/Bg_number_muons_signal.png',bbox_inches='tight')"
   ]
  },
  {
   "cell_type": "code",
   "execution_count": 15,
   "id": "angry-jimmy",
   "metadata": {},
   "outputs": [
    {
     "name": "stdout",
     "output_type": "stream",
     "text": [
      "0         21.442533\n",
      "1         81.907338\n",
      "2         58.303622\n",
      "3          3.959595\n",
      "4       1193.657806\n",
      "           ...     \n",
      "6890      87.772881\n",
      "6891     197.422177\n",
      "6892     152.592469\n",
      "6893     326.992645\n",
      "6894     992.890957\n",
      "Name: mpp, Length: 6895, dtype: float64\n"
     ]
    },
    {
     "data": {
      "image/png": "[encoded data removed]",
      "text/plain": [
       "<Figure size 1440x360 with 2 Axes>"
      ]
     },
     "metadata": {
      "needs_background": "light"
     },
     "output_type": "display_data"
    }
   ],
   "source": [
    "print(bg_anal['mpp'])\n",
    "f, ax = plt.subplots(1,2,figsize=(20,5),sharey=True)\n",
    "ax[0].hist(np.concatenate([bg_anal['mu1_eta'].values,bg_anal['mu2_eta'].values]),bins=np.linspace(-2.5,2.5,20), label='Background muons')\n",
    "ax[0].set(xlabel=r'$\\eta$ of muons', ylabel='number of entries')\n",
    "#ax[0].set_ylim(0,1200)\n",
    "\n",
    "ax[1].hist(bg_anal['mll'].values, bins=np.linspace(0,150,150),label='Background muons')\n",
    "ax[1].set(xlabel=r'$m_{\\ell\\ell}$ [GeV]')\n",
    "ax[1].set_xlim(0,150)\n",
    "for i in range(2):\n",
    "    hep.cms.label(llabel=\"Preliminary\", rlabel=\"Summer 2021\", ax=ax[i])\n",
    "    ax[i].legend()\n",
    "plt.savefig('AnalyseW2/bg_dimuon_analysis_corrected.png',bbox_inches='tight')"
   ]
  },
  {
   "cell_type": "code",
   "execution_count": 16,
   "id": "academic-dependence",
   "metadata": {},
   "outputs": [
    {
     "name": "stdout",
     "output_type": "stream",
     "text": [
      "6895\n",
      "64\n"
     ]
    },
    {
     "data": {
      "image/png": "[encoded data removed]",
      "text/plain": [
       "<Figure size 1296x720 with 3 Axes>"
      ]
     },
     "metadata": {
      "needs_background": "light"
     },
     "output_type": "display_data"
    }
   ],
   "source": [
    "#plot mpp vs mll for pile-up and signal pairs.\n",
    "\n",
    "fig, axes = plt.subplots(1,2,figsize=(18,10) )\n",
    "proton = analysis['s_mpp'].values\n",
    "muon = analysis['s_mll'].values\n",
    "\n",
    "b_proton = bg_anal['mpp'].values\n",
    "b_muon = bg_anal['mll'].values\n",
    "\n",
    "print(len(b_muon))\n",
    "print(len(muon))\n",
    "\n",
    "h = axes[0].hist2d(proton, muon, bins=(32,32) , cmap='viridis')\n",
    "axes[0].set(xlabel=r'signal $m_{pp}$ [GeV]', ylabel=r'signal $m_{\\ell \\ell}$ [GeV]')\n",
    "#axes[0].set_ylim(50,500)\n",
    "#axes[0].set_xlim(50,500)\n",
    "axes[1].hist2d(b_proton, b_muon, bins=(32,32) , cmap='viridis')\n",
    "axes[1].set(xlabel=r'background $m_{pp}$ [GeV]', ylabel=r'background $m_{\\ell \\ell}$ [GeV]')\n",
    "#axes[1].set_ylim(0,200)\n",
    "fig.colorbar(h[3], ax=axes)\n",
    "#plt.ylim(0,250)\n",
    "for i in range(2): hep.cms.label(llabel=\"Preliminary\", rlabel=\"Summer 2021\", ax=axes[i])\n",
    "\n",
    "plt.savefig('AnalyseW2/corr_mpp_mll_sig_bg')"
   ]
  },
  {
   "cell_type": "code",
   "execution_count": 17,
   "id": "macro-fundamental",
   "metadata": {},
   "outputs": [
    {
     "name": "stdout",
     "output_type": "stream",
     "text": [
      "6895\n",
      "64\n",
      "64\n"
     ]
    },
    {
     "data": {
      "image/png": "[encoded data removed]",
      "text/plain": [
       "<Figure size 1296x720 with 3 Axes>"
      ]
     },
     "metadata": {
      "needs_background": "light"
     },
     "output_type": "display_data"
    }
   ],
   "source": [
    "#plot mpp vs mll for pile-up and signal pairs.\n",
    "\n",
    "fig, axes = plt.subplots(1,2,figsize=(18,10) )\n",
    "proton = analysis['s_mpp'].values\n",
    "muon = analysis['s_mll'].values\n",
    "\n",
    "b_proton = bg_anal['mpp'].values\n",
    "b_muon = bg_anal['mll'].values\n",
    "\n",
    "print(len(b_muon))\n",
    "print(len(muon))\n",
    "m = []\n",
    "for i in range(0,64):\n",
    "    m = np.append(m,b_muon[i])\n",
    "print(len(m))\n",
    "h = axes[0].hist2d(proton, muon, bins=(32,32) , cmap='viridis')\n",
    "axes[0].set(xlabel=r'signal $m_{pp}$ [GeV]', ylabel=r'signal $m_{\\ell \\ell}$ [GeV]')\n",
    "#axes[0].set_ylim(50,500)\n",
    "#axes[0].set_xlim(50,500)\n",
    "axes[1].hist2d(muon, m, bins=(32,32) , cmap='viridis')\n",
    "axes[1].set(xlabel=r'signal $m_{\\ell \\ell}$ [GeV]', ylabel=r'background $m_{\\ell \\ell}$ [GeV]')\n",
    "#axes[1].set_ylim(0,200)\n",
    "fig.colorbar(h[3], ax=axes)\n",
    "#plt.ylim(0,250)\n",
    "for i in range(2): hep.cms.label(llabel=\"Preliminary\", rlabel=\"Summer 2021\", ax=axes[i])\n",
    "\n",
    "plt.savefig('AnalyseW2/corr_mpp_mll_sig_bg_corre')"
   ]
  },
  {
   "cell_type": "code",
   "execution_count": 18,
   "id": "norman-apollo",
   "metadata": {},
   "outputs": [
    {
     "name": "stdout",
     "output_type": "stream",
     "text": [
      "acceptance rate from background mass:\n",
      "0.00971718636693256\n",
      "acceptance rate from signal mass:\n",
      "0.0\n"
     ]
    }
   ],
   "source": [
    "#criteria for selection: |mpp-mll|<2sigma*mll\n",
    "b = []\n",
    "data = abs(bg_anal['mpp']-bg_anal['mll']) \n",
    "\n",
    "for i in range(0,len(data)):\n",
    "    if data[i] < (2*sigma_m*bg_anal['mll'][i]):\n",
    "        b = np.append(b,bg_anal['mpp'][i])\n",
    "#print(len(b))\n",
    "m_acc_bg = len(b)/len(data)\n",
    "print('acceptance rate from background mass:')\n",
    "print(m_acc_bg)\n",
    "\n",
    "s = []\n",
    "data = abs(analysis['s_mpp'] - analysis['s_mll'])\n",
    "for i in range(0,len(data)):\n",
    "    if data[i] < (2*sigma_m*analysis['s_mll'][i]):\n",
    "        s = np.append(s, analysis['s_mll'])\n",
    "#print(len(s))\n",
    "m_acc_s = len(s)/len(data)\n",
    "print('acceptance rate from signal mass:')\n",
    "print(m_acc_s)"
   ]
  },
  {
   "cell_type": "code",
   "execution_count": 19,
   "id": "contained-bahrain",
   "metadata": {},
   "outputs": [
    {
     "data": {
      "image/png": "[encoded data removed]",
      "text/plain": [
       "<Figure size 1440x360 with 2 Axes>"
      ]
     },
     "metadata": {
      "needs_background": "light"
     },
     "output_type": "display_data"
    }
   ],
   "source": [
    "\n",
    "#plt.savefig('Correct/muon_eta.png',bbox_inches='tight')\n",
    "f, ax = plt.subplots(1,2,figsize=(20,5),sharey=False)\n",
    "bins = np.linspace(0,3500,80)\n",
    "ax[0].hist(bg_anal['mpp'],bins,label='Background protons')\n",
    "ax[0].hist(analysis['s_mpp'],bins,histtype='step', label='Signal protons')\n",
    "ax[0].set(xlabel=r'$m_{pp}$ (calculated from protons) [GeV]', ylabel='number of entries')\n",
    "ax[0].legend()\n",
    "bins = np.linspace(0,150,50)\n",
    "ax[1].hist(b,bins,label='Selected background \\n (Rate:%2.2f)'%m_acc_bg)\n",
    "ax[1].hist(s,bins,histtype='step',label='Selected signal \\n (Rate:%2.2f)'%m_acc_s)\n",
    "ax[1].set(xlabel=r'$m_{pp}$ (calculated from protons)[GeV]')\n",
    "ax[1].legend(fontsize=15)\n",
    "for i in range(2):\n",
    "    hep.cms.label(llabel=\"Preliminary\", rlabel=\"Summer 2021\", ax=ax[i])\n",
    "    #ax[i].legend()\n",
    "plt.savefig('Week4/surviving_protons_mass.png',bbox_inches='tight')"
   ]
  },
  {
   "cell_type": "code",
   "execution_count": 20,
   "id": "solved-harris",
   "metadata": {},
   "outputs": [
    {
     "name": "stdout",
     "output_type": "stream",
     "text": [
      "acceptance rate from background eta:\n",
      "0.050616388687454675\n",
      "acceptance rate from signal eta:\n",
      "28.0\n"
     ]
    }
   ],
   "source": [
    "#criteria for selection: |ypp-yll|<2sigma*mll\n",
    "b = []\n",
    "data = abs(bg_anal['ypp']-bg_anal['yll']) \n",
    "\n",
    "for i in range(0,len(data)):\n",
    "    if data[i] < abs(2*sigma_y*bg_anal['yll'][i]) : #the abs has no impact for the background !\n",
    "        b = np.append(b,bg_anal['ypp'][i])\n",
    "#print(len(b))\n",
    "y_acc_bg = len(b)/len(data)\n",
    "print('acceptance rate from background eta:')\n",
    "print(y_acc_bg)\n",
    "\n",
    "s = []\n",
    "data = analysis['s_ypp'] - analysis['s_yll']\n",
    "for i in range(0,len(data)):\n",
    "    if data[i] < abs(2*sigma_y*analysis['s_yll'][i]): #but if I leave it out here, I have 0 for the signal acceptance!\n",
    "        s = np.append(s, analysis['s_ypp'])\n",
    "#print(len(s))\n",
    "y_acc_s = len(s)/len(data)\n",
    "print('acceptance rate from signal eta:')\n",
    "print(y_acc_s)"
   ]
  },
  {
   "cell_type": "code",
   "execution_count": 21,
   "id": "confused-viewer",
   "metadata": {},
   "outputs": [
    {
     "name": "stdout",
     "output_type": "stream",
     "text": [
      "6895\n",
      "1792\n"
     ]
    },
    {
     "data": {
      "image/png": "[encoded data removed]",
      "text/plain": [
       "<Figure size 1440x360 with 2 Axes>"
      ]
     },
     "metadata": {
      "needs_background": "light"
     },
     "output_type": "display_data"
    }
   ],
   "source": [
    "\n",
    "#plt.savefig('Correct/muon_eta.png',bbox_inches='tight')\n",
    "f, ax = plt.subplots(1,2,figsize=(20,5),sharey=False)\n",
    "bins = np.linspace(-4,4,20)\n",
    "print(len(bg_anal['ypp']))\n",
    "ax[0].hist(bg_anal['ypp'],bins,label='Background protons')\n",
    "ax[0].hist(analysis['s_ypp'],bins, histtype='step', label='Signal protons')\n",
    "ax[0].set(xlabel=r'$\\eta_{pp} (calculated from protons)$', ylabel='number of entries')\n",
    "binsb = np.linspace(-4,4,20)\n",
    "print(len(s))\n",
    "ax[1].hist(b,binsb,label='Selected background \\n (Rate:%2.2f)'%y_acc_bg)\n",
    "ax[1].hist(s,bins,histtype='step',label='Selected signal \\n (Rate:%2.2f)'%y_acc_s)\n",
    "ax[1].set(xlabel=r'$\\eta_{pp} (calculated from protons)$ [GeV]')\n",
    "\n",
    "for i in range(2):\n",
    "    hep.cms.label(llabel=\"Preliminary\", rlabel=\"Summer 2021\", ax=ax[i])\n",
    "    ax[i].legend(fontsize=15)\n",
    "plt.savefig('Week4/surviving_protons_eta.png', bbox_inches='tight')"
   ]
  },
  {
   "cell_type": "code",
   "execution_count": 25,
   "id": "adult-equality",
   "metadata": {},
   "outputs": [],
   "source": [
    "#________________________________________________________________________________________For the ultimate goal !\n",
    "#def GetSignalProtons(all_proton_pairs):\n",
    "#   DO SOME MAGIC\n",
    "#and apply it on all proton pairs:\n",
    "#proton_pos_idx=np.where(ak.to_numpy((pr.genproton_pz<0) & (pr.genproton_pz>-6999) ))[0]\n",
    "#proton_neg_idx=np.where(ak.to_numpy((pr.genproton_pz>0) & (pr.genproton_pz< 6999) ))[0]\n",
    "#create list of all possible pair combinations between list 1 and list 2:\n",
    "#proton_pairs_idx=np.array(np.meshgrid(proton_pos_idx,proton_neg_idx)).T.reshape(-1,2)\n",
    "#pick up signal protons:\n",
    "#pr1_idx,pr2_idx = GetSignalProtons(proton_pairs_idx)"
   ]
  }
 ],
 "metadata": {
  "kernelspec": {
   "display_name": "Python 3",
   "language": "python",
   "name": "python3"
  },
  "language_info": {
   "codemirror_mode": {
    "name": "ipython",
    "version": 3
   },
   "file_extension": ".py",
   "mimetype": "text/x-python",
   "name": "python",
   "nbconvert_exporter": "python",
   "pygments_lexer": "ipython3",
   "version": "3.8.6"
  }
 },
 "nbformat": 4,
 "nbformat_minor": 5
}
